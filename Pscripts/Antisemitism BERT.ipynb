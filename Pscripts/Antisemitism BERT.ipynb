{
 "cells": [
  {
   "cell_type": "code",
   "execution_count": null,
   "metadata": {
    "colab": {
     "base_uri": "https://localhost:8080/"
    },
    "executionInfo": {
     "elapsed": 8119,
     "status": "ok",
     "timestamp": 1656522678261,
     "user": {
      "displayName": "Julia Chen",
      "userId": "11211254849500354622"
     },
     "user_tz": 240
    },
    "id": "MZGGBEQVcHiV",
    "outputId": "3794a6d5-b31e-4c53-d935-0cd06b4d1ea4"
   },
   "outputs": [
    {
     "name": "stdout",
     "output_type": "stream",
     "text": [
      "Looking in indexes: https://pypi.org/simple, https://us-python.pkg.dev/colab-wheels/public/simple/\n",
      "Requirement already satisfied: pytorch_pretrained_bert in /usr/local/lib/python3.7/dist-packages (0.6.2)\n",
      "Requirement already satisfied: regex in /usr/local/lib/python3.7/dist-packages (from pytorch_pretrained_bert) (2022.6.2)\n",
      "Requirement already satisfied: requests in /usr/local/lib/python3.7/dist-packages (from pytorch_pretrained_bert) (2.23.0)\n",
      "Requirement already satisfied: numpy in /usr/local/lib/python3.7/dist-packages (from pytorch_pretrained_bert) (1.21.6)\n",
      "Requirement already satisfied: boto3 in /usr/local/lib/python3.7/dist-packages (from pytorch_pretrained_bert) (1.24.19)\n",
      "Requirement already satisfied: tqdm in /usr/local/lib/python3.7/dist-packages (from pytorch_pretrained_bert) (4.64.0)\n",
      "Requirement already satisfied: torch>=0.4.1 in /usr/local/lib/python3.7/dist-packages (from pytorch_pretrained_bert) (1.11.0+cu113)\n",
      "Requirement already satisfied: typing-extensions in /usr/local/lib/python3.7/dist-packages (from torch>=0.4.1->pytorch_pretrained_bert) (4.1.1)\n",
      "Requirement already satisfied: s3transfer<0.7.0,>=0.6.0 in /usr/local/lib/python3.7/dist-packages (from boto3->pytorch_pretrained_bert) (0.6.0)\n",
      "Requirement already satisfied: jmespath<2.0.0,>=0.7.1 in /usr/local/lib/python3.7/dist-packages (from boto3->pytorch_pretrained_bert) (1.0.1)\n",
      "Requirement already satisfied: botocore<1.28.0,>=1.27.19 in /usr/local/lib/python3.7/dist-packages (from boto3->pytorch_pretrained_bert) (1.27.19)\n",
      "Requirement already satisfied: urllib3<1.27,>=1.25.4 in /usr/local/lib/python3.7/dist-packages (from botocore<1.28.0,>=1.27.19->boto3->pytorch_pretrained_bert) (1.25.11)\n",
      "Requirement already satisfied: python-dateutil<3.0.0,>=2.1 in /usr/local/lib/python3.7/dist-packages (from botocore<1.28.0,>=1.27.19->boto3->pytorch_pretrained_bert) (2.8.2)\n",
      "Requirement already satisfied: six>=1.5 in /usr/local/lib/python3.7/dist-packages (from python-dateutil<3.0.0,>=2.1->botocore<1.28.0,>=1.27.19->boto3->pytorch_pretrained_bert) (1.15.0)\n",
      "Requirement already satisfied: chardet<4,>=3.0.2 in /usr/local/lib/python3.7/dist-packages (from requests->pytorch_pretrained_bert) (3.0.4)\n",
      "Requirement already satisfied: certifi>=2017.4.17 in /usr/local/lib/python3.7/dist-packages (from requests->pytorch_pretrained_bert) (2022.6.15)\n",
      "Requirement already satisfied: idna<3,>=2.5 in /usr/local/lib/python3.7/dist-packages (from requests->pytorch_pretrained_bert) (2.10)\n"
     ]
    }
   ],
   "source": [
    "!pip install pytorch_pretrained_bert"
   ]
  },
  {
   "cell_type": "code",
   "execution_count": null,
   "metadata": {
    "id": "euoNBZf6lOok"
   },
   "outputs": [],
   "source": [
    "from google.colab import files, drive\n",
    "import keras\n",
    "import pandas as pd\n",
    "import numpy as np\n",
    "import matplotlib.pyplot as plt\n",
    "from pytorch_pretrained_bert import BertTokenizer, BertConfig\n",
    "from keras.preprocessing.sequence import pad_sequences\n",
    "from sklearn.manifold import TSNE\n",
    "from zipfile import ZipFile"
   ]
  },
  {
   "cell_type": "code",
   "execution_count": null,
   "metadata": {
    "colab": {
     "base_uri": "https://localhost:8080/",
     "height": 74,
     "resources": {
      "http://localhost:8080/nbextensions/google.colab/files.js": {
       "data": "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",
       "headers": [
        [
         "content-type",
         "application/javascript"
        ]
       ],
       "ok": true,
       "status": 200,
       "status_text": ""
      }
     }
    },
    "executionInfo": {
     "elapsed": 7985,
     "status": "ok",
     "timestamp": 1656522704486,
     "user": {
      "displayName": "Julia Chen",
      "userId": "11211254849500354622"
     },
     "user_tz": 240
    },
    "id": "5q_Iu2ApSGRm",
    "outputId": "149a719b-3390-4a23-f4ab-9ad809478303"
   },
   "outputs": [
    {
     "data": {
      "text/html": [
       "\n",
       "     <input type=\"file\" id=\"files-a83ae8a6-944d-42e4-84a3-5d58486170d2\" name=\"files[]\" multiple disabled\n",
       "        style=\"border:none\" />\n",
       "     <output id=\"result-a83ae8a6-944d-42e4-84a3-5d58486170d2\">\n",
       "      Upload widget is only available when the cell has been executed in the\n",
       "      current browser session. Please rerun this cell to enable.\n",
       "      </output>\n",
       "      <script src=\"/nbextensions/google.colab/files.js\"></script> "
      ],
      "text/plain": [
       "<IPython.core.display.HTML object>"
      ]
     },
     "metadata": {},
     "output_type": "display_data"
    },
    {
     "name": "stdout",
     "output_type": "stream",
     "text": [
      "Saving antisemitismdata_ocr.csv to antisemitismdata_ocr.csv\n"
     ]
    }
   ],
   "source": [
    "\n",
    "uploaded = files.upload()"
   ]
  },
  {
   "cell_type": "code",
   "execution_count": null,
   "metadata": {
    "colab": {
     "base_uri": "https://localhost:8080/"
    },
    "executionInfo": {
     "elapsed": 23798,
     "status": "ok",
     "timestamp": 1627568781843,
     "user": {
      "displayName": "Julia Chen",
      "photoUrl": "https://lh3.googleusercontent.com/a-/AOh14Gh67caMc-TRhBdHZcH5nQ7NqzhZMuz2td8AH5I7Fzc=s64",
      "userId": "11211254849500354622"
     },
     "user_tz": 240
    },
    "id": "RZBwH_C3Sbm1",
    "outputId": "2d010b32-384e-4ede-8860-8d20bd6d78c3"
   },
   "outputs": [
    {
     "name": "stdout",
     "output_type": "stream",
     "text": [
      "Mounted at /content/drive\n"
     ]
    }
   ],
   "source": [
    "drive.mount('/content/drive')"
   ]
  },
  {
   "cell_type": "code",
   "execution_count": null,
   "metadata": {
    "colab": {
     "base_uri": "https://localhost:8080/",
     "height": 1000
    },
    "executionInfo": {
     "elapsed": 324,
     "status": "ok",
     "timestamp": 1656522736885,
     "user": {
      "displayName": "Julia Chen",
      "userId": "11211254849500354622"
     },
     "user_tz": 240
    },
    "id": "TLYxBD6JSxvu",
    "outputId": "f29740ef-fa11-42e4-a3c2-c23cdd64f0aa"
   },
   "outputs": [
    {
     "data": {
      "text/html": [
       "\n",
       "  <div id=\"df-d38069d5-2c62-4fad-a968-7ffe39bb7394\">\n",
       "    <div class=\"colab-df-container\">\n",
       "      <div>\n",
       "<style scoped>\n",
       "    .dataframe tbody tr th:only-of-type {\n",
       "        vertical-align: middle;\n",
       "    }\n",
       "\n",
       "    .dataframe tbody tr th {\n",
       "        vertical-align: top;\n",
       "    }\n",
       "\n",
       "    .dataframe thead th {\n",
       "        text-align: right;\n",
       "    }\n",
       "</style>\n",
       "<table border=\"1\" class=\"dataframe\">\n",
       "  <thead>\n",
       "    <tr style=\"text-align: right;\">\n",
       "      <th></th>\n",
       "      <th>Unnamed: 0</th>\n",
       "      <th>id</th>\n",
       "      <th>text</th>\n",
       "      <th>classification</th>\n",
       "      <th>type_of_antisemitism</th>\n",
       "      <th>image_url</th>\n",
       "      <th>ocr</th>\n",
       "    </tr>\n",
       "  </thead>\n",
       "  <tbody>\n",
       "    <tr>\n",
       "      <th>0</th>\n",
       "      <td>0</td>\n",
       "      <td>1291817243278553088</td>\n",
       "      <td>Y'all are the future.</td>\n",
       "      <td>0</td>\n",
       "      <td>NaN</td>\n",
       "      <td>https://pbs.twimg.com/media/Ee107xJXsAIYK_l.jpg</td>\n",
       "      <td>BB hh</td>\n",
       "    </tr>\n",
       "    <tr>\n",
       "      <th>1</th>\n",
       "      <td>1</td>\n",
       "      <td>1292750633104289792</td>\n",
       "      <td>Not what you think  Propagandist  PRO zionist ...</td>\n",
       "      <td>1</td>\n",
       "      <td>0.0</td>\n",
       "      <td>https://pbs.twimg.com/media/EfDF2TjXYAE_a4h.jpg</td>\n",
       "      <td>NaN</td>\n",
       "    </tr>\n",
       "    <tr>\n",
       "      <th>2</th>\n",
       "      <td>2</td>\n",
       "      <td>1275918779831238656</td>\n",
       "      <td>I'm probably blackpilled due to years of zog p...</td>\n",
       "      <td>1</td>\n",
       "      <td>0.0</td>\n",
       "      <td>https://pbs.twimg.com/media/EbT5XA8WsAYauDY.jpg</td>\n",
       "      <td>DI\\nFORTH CARO\\nROHO.</td>\n",
       "    </tr>\n",
       "    <tr>\n",
       "      <th>3</th>\n",
       "      <td>3</td>\n",
       "      <td>1293090052252135424</td>\n",
       "      <td>The latest proof that trump has managed to sim...</td>\n",
       "      <td>1</td>\n",
       "      <td>0.0</td>\n",
       "      <td>https://pbs.twimg.com/media/EfH6jEXUMAAziFs.jpg</td>\n",
       "      <td>Verizon\\nQ4%\\n12:34 AM\\nforward.com\\nNews » Na...</td>\n",
       "    </tr>\n",
       "    <tr>\n",
       "      <th>4</th>\n",
       "      <td>4</td>\n",
       "      <td>1293251961031204865</td>\n",
       "      <td>Your Holiness, I would like to inform you that...</td>\n",
       "      <td>1</td>\n",
       "      <td>2.0</td>\n",
       "      <td>https://pbs.twimg.com/media/EfKNNTSXkAAnCBw.jpg</td>\n",
       "      <td>NaN</td>\n",
       "    </tr>\n",
       "    <tr>\n",
       "      <th>...</th>\n",
       "      <td>...</td>\n",
       "      <td>...</td>\n",
       "      <td>...</td>\n",
       "      <td>...</td>\n",
       "      <td>...</td>\n",
       "      <td>...</td>\n",
       "      <td>...</td>\n",
       "    </tr>\n",
       "    <tr>\n",
       "      <th>1216</th>\n",
       "      <td>1216</td>\n",
       "      <td>1316617182244081664</td>\n",
       "      <td>False. No peoples or nations know Egypt more s...</td>\n",
       "      <td>0</td>\n",
       "      <td>NaN</td>\n",
       "      <td>https://pbs.twimg.com/media/EkWQVebVkAIAo54.jpg</td>\n",
       "      <td>HOLY WAR\\nCONCEPT ART\\n\"IF I HAVE NOT CRAVED G...</td>\n",
       "    </tr>\n",
       "    <tr>\n",
       "      <th>1217</th>\n",
       "      <td>1217</td>\n",
       "      <td>1316363815764791296</td>\n",
       "      <td>When the harvest and the harvesters are small,...</td>\n",
       "      <td>0</td>\n",
       "      <td>NaN</td>\n",
       "      <td>https://pbs.twimg.com/media/EkSp6jYXcAE8sTK.jpg</td>\n",
       "      <td>NaN</td>\n",
       "    </tr>\n",
       "    <tr>\n",
       "      <th>1218</th>\n",
       "      <td>1218</td>\n",
       "      <td>1316626398853787650</td>\n",
       "      <td>According to a Hebrew Proverb the best investm...</td>\n",
       "      <td>0</td>\n",
       "      <td>NaN</td>\n",
       "      <td>https://pbs.twimg.com/media/EkWYr4sVgAESnUz.jpg</td>\n",
       "      <td>He is not a full man\\nwho does not own a\\npiec...</td>\n",
       "    </tr>\n",
       "    <tr>\n",
       "      <th>1219</th>\n",
       "      <td>1219</td>\n",
       "      <td>1316630714960543750</td>\n",
       "      <td>There are two ways to find Hashem, three world...</td>\n",
       "      <td>0</td>\n",
       "      <td>NaN</td>\n",
       "      <td>https://pbs.twimg.com/media/EkWcqDsXYAAqonW.jpg</td>\n",
       "      <td>זה ימשך עד עולם: יט (א)\\nלמנצח, יבאר כי כבוד ה...</td>\n",
       "    </tr>\n",
       "    <tr>\n",
       "      <th>1220</th>\n",
       "      <td>1220</td>\n",
       "      <td>772685844910080000</td>\n",
       "      <td>Time to stop the Christ-killer Blairites.</td>\n",
       "      <td>1</td>\n",
       "      <td>2.0</td>\n",
       "      <td>https://pbs.twimg.com/media/CrkhITeWgAAuV4R.jpg</td>\n",
       "      <td>REMAIN\\nFOR\\nWORKERS\\nRIGHTS\\nAlan Bowring\\n2,...</td>\n",
       "    </tr>\n",
       "  </tbody>\n",
       "</table>\n",
       "<p>1221 rows × 7 columns</p>\n",
       "</div>\n",
       "      <button class=\"colab-df-convert\" onclick=\"convertToInteractive('df-d38069d5-2c62-4fad-a968-7ffe39bb7394')\"\n",
       "              title=\"Convert this dataframe to an interactive table.\"\n",
       "              style=\"display:none;\">\n",
       "        \n",
       "  <svg xmlns=\"http://www.w3.org/2000/svg\" height=\"24px\"viewBox=\"0 0 24 24\"\n",
       "       width=\"24px\">\n",
       "    <path d=\"M0 0h24v24H0V0z\" fill=\"none\"/>\n",
       "    <path d=\"M18.56 5.44l.94 2.06.94-2.06 2.06-.94-2.06-.94-.94-2.06-.94 2.06-2.06.94zm-11 1L8.5 8.5l.94-2.06 2.06-.94-2.06-.94L8.5 2.5l-.94 2.06-2.06.94zm10 10l.94 2.06.94-2.06 2.06-.94-2.06-.94-.94-2.06-.94 2.06-2.06.94z\"/><path d=\"M17.41 7.96l-1.37-1.37c-.4-.4-.92-.59-1.43-.59-.52 0-1.04.2-1.43.59L10.3 9.45l-7.72 7.72c-.78.78-.78 2.05 0 2.83L4 21.41c.39.39.9.59 1.41.59.51 0 1.02-.2 1.41-.59l7.78-7.78 2.81-2.81c.8-.78.8-2.07 0-2.86zM5.41 20L4 18.59l7.72-7.72 1.47 1.35L5.41 20z\"/>\n",
       "  </svg>\n",
       "      </button>\n",
       "      \n",
       "  <style>\n",
       "    .colab-df-container {\n",
       "      display:flex;\n",
       "      flex-wrap:wrap;\n",
       "      gap: 12px;\n",
       "    }\n",
       "\n",
       "    .colab-df-convert {\n",
       "      background-color: #E8F0FE;\n",
       "      border: none;\n",
       "      border-radius: 50%;\n",
       "      cursor: pointer;\n",
       "      display: none;\n",
       "      fill: #1967D2;\n",
       "      height: 32px;\n",
       "      padding: 0 0 0 0;\n",
       "      width: 32px;\n",
       "    }\n",
       "\n",
       "    .colab-df-convert:hover {\n",
       "      background-color: #E2EBFA;\n",
       "      box-shadow: 0px 1px 2px rgba(60, 64, 67, 0.3), 0px 1px 3px 1px rgba(60, 64, 67, 0.15);\n",
       "      fill: #174EA6;\n",
       "    }\n",
       "\n",
       "    [theme=dark] .colab-df-convert {\n",
       "      background-color: #3B4455;\n",
       "      fill: #D2E3FC;\n",
       "    }\n",
       "\n",
       "    [theme=dark] .colab-df-convert:hover {\n",
       "      background-color: #434B5C;\n",
       "      box-shadow: 0px 1px 3px 1px rgba(0, 0, 0, 0.15);\n",
       "      filter: drop-shadow(0px 1px 2px rgba(0, 0, 0, 0.3));\n",
       "      fill: #FFFFFF;\n",
       "    }\n",
       "  </style>\n",
       "\n",
       "      <script>\n",
       "        const buttonEl =\n",
       "          document.querySelector('#df-d38069d5-2c62-4fad-a968-7ffe39bb7394 button.colab-df-convert');\n",
       "        buttonEl.style.display =\n",
       "          google.colab.kernel.accessAllowed ? 'block' : 'none';\n",
       "\n",
       "        async function convertToInteractive(key) {\n",
       "          const element = document.querySelector('#df-d38069d5-2c62-4fad-a968-7ffe39bb7394');\n",
       "          const dataTable =\n",
       "            await google.colab.kernel.invokeFunction('convertToInteractive',\n",
       "                                                     [key], {});\n",
       "          if (!dataTable) return;\n",
       "\n",
       "          const docLinkHtml = 'Like what you see? Visit the ' +\n",
       "            '<a target=\"_blank\" href=https://colab.research.google.com/notebooks/data_table.ipynb>data table notebook</a>'\n",
       "            + ' to learn more about interactive tables.';\n",
       "          element.innerHTML = '';\n",
       "          dataTable['output_type'] = 'display_data';\n",
       "          await google.colab.output.renderOutput(dataTable, element);\n",
       "          const docLink = document.createElement('div');\n",
       "          docLink.innerHTML = docLinkHtml;\n",
       "          element.appendChild(docLink);\n",
       "        }\n",
       "      </script>\n",
       "    </div>\n",
       "  </div>\n",
       "  "
      ],
      "text/plain": [
       "      Unnamed: 0                   id  \\\n",
       "0              0  1291817243278553088   \n",
       "1              1  1292750633104289792   \n",
       "2              2  1275918779831238656   \n",
       "3              3  1293090052252135424   \n",
       "4              4  1293251961031204865   \n",
       "...          ...                  ...   \n",
       "1216        1216  1316617182244081664   \n",
       "1217        1217  1316363815764791296   \n",
       "1218        1218  1316626398853787650   \n",
       "1219        1219  1316630714960543750   \n",
       "1220        1220   772685844910080000   \n",
       "\n",
       "                                                   text  classification  \\\n",
       "0                                Y'all are the future.                0   \n",
       "1     Not what you think  Propagandist  PRO zionist ...               1   \n",
       "2     I'm probably blackpilled due to years of zog p...               1   \n",
       "3     The latest proof that trump has managed to sim...               1   \n",
       "4     Your Holiness, I would like to inform you that...               1   \n",
       "...                                                 ...             ...   \n",
       "1216  False. No peoples or nations know Egypt more s...               0   \n",
       "1217  When the harvest and the harvesters are small,...               0   \n",
       "1218  According to a Hebrew Proverb the best investm...               0   \n",
       "1219  There are two ways to find Hashem, three world...               0   \n",
       "1220         Time to stop the Christ-killer Blairites.                1   \n",
       "\n",
       "      type_of_antisemitism                                        image_url  \\\n",
       "0                      NaN  https://pbs.twimg.com/media/Ee107xJXsAIYK_l.jpg   \n",
       "1                      0.0  https://pbs.twimg.com/media/EfDF2TjXYAE_a4h.jpg   \n",
       "2                      0.0  https://pbs.twimg.com/media/EbT5XA8WsAYauDY.jpg   \n",
       "3                      0.0  https://pbs.twimg.com/media/EfH6jEXUMAAziFs.jpg   \n",
       "4                      2.0  https://pbs.twimg.com/media/EfKNNTSXkAAnCBw.jpg   \n",
       "...                    ...                                              ...   \n",
       "1216                   NaN  https://pbs.twimg.com/media/EkWQVebVkAIAo54.jpg   \n",
       "1217                   NaN  https://pbs.twimg.com/media/EkSp6jYXcAE8sTK.jpg   \n",
       "1218                   NaN  https://pbs.twimg.com/media/EkWYr4sVgAESnUz.jpg   \n",
       "1219                   NaN  https://pbs.twimg.com/media/EkWcqDsXYAAqonW.jpg   \n",
       "1220                   2.0  https://pbs.twimg.com/media/CrkhITeWgAAuV4R.jpg   \n",
       "\n",
       "                                                    ocr  \n",
       "0                                                 BB hh  \n",
       "1                                                   NaN  \n",
       "2                                 DI\\nFORTH CARO\\nROHO.  \n",
       "3     Verizon\\nQ4%\\n12:34 AM\\nforward.com\\nNews » Na...  \n",
       "4                                                   NaN  \n",
       "...                                                 ...  \n",
       "1216  HOLY WAR\\nCONCEPT ART\\n\"IF I HAVE NOT CRAVED G...  \n",
       "1217                                                NaN  \n",
       "1218  He is not a full man\\nwho does not own a\\npiec...  \n",
       "1219  זה ימשך עד עולם: יט (א)\\nלמנצח, יבאר כי כבוד ה...  \n",
       "1220  REMAIN\\nFOR\\nWORKERS\\nRIGHTS\\nAlan Bowring\\n2,...  \n",
       "\n",
       "[1221 rows x 7 columns]"
      ]
     },
     "execution_count": 5,
     "metadata": {},
     "output_type": "execute_result"
    }
   ],
   "source": [
    "df = pd.read_csv('/content/antisemitismdata_ocr.csv')\n",
    "df"
   ]
  },
  {
   "cell_type": "code",
   "execution_count": null,
   "metadata": {
    "colab": {
     "base_uri": "https://localhost:8080/",
     "height": 1000
    },
    "executionInfo": {
     "elapsed": 231,
     "status": "ok",
     "timestamp": 1656522766144,
     "user": {
      "displayName": "Julia Chen",
      "userId": "11211254849500354622"
     },
     "user_tz": 240
    },
    "id": "jSfV7THhc2iX",
    "outputId": "61c2cbe9-0ea2-4cbb-bd0c-0e5c1d6c7603"
   },
   "outputs": [
    {
     "data": {
      "text/html": [
       "\n",
       "  <div id=\"df-7c52da9f-ef59-4731-a98f-c018e0892f7b\">\n",
       "    <div class=\"colab-df-container\">\n",
       "      <div>\n",
       "<style scoped>\n",
       "    .dataframe tbody tr th:only-of-type {\n",
       "        vertical-align: middle;\n",
       "    }\n",
       "\n",
       "    .dataframe tbody tr th {\n",
       "        vertical-align: top;\n",
       "    }\n",
       "\n",
       "    .dataframe thead th {\n",
       "        text-align: right;\n",
       "    }\n",
       "</style>\n",
       "<table border=\"1\" class=\"dataframe\">\n",
       "  <thead>\n",
       "    <tr style=\"text-align: right;\">\n",
       "      <th></th>\n",
       "      <th>Unnamed: 0</th>\n",
       "      <th>id</th>\n",
       "      <th>text</th>\n",
       "      <th>classification</th>\n",
       "      <th>type_of_antisemitism</th>\n",
       "      <th>image_url</th>\n",
       "      <th>ocr</th>\n",
       "      <th>combined_text</th>\n",
       "    </tr>\n",
       "  </thead>\n",
       "  <tbody>\n",
       "    <tr>\n",
       "      <th>0</th>\n",
       "      <td>0</td>\n",
       "      <td>1291817243278553088</td>\n",
       "      <td>Y'all are the future.</td>\n",
       "      <td>0</td>\n",
       "      <td>NaN</td>\n",
       "      <td>https://pbs.twimg.com/media/Ee107xJXsAIYK_l.jpg</td>\n",
       "      <td>BB hh</td>\n",
       "      <td>Y'all are the future.  BB hh</td>\n",
       "    </tr>\n",
       "    <tr>\n",
       "      <th>1</th>\n",
       "      <td>1</td>\n",
       "      <td>1292750633104289792</td>\n",
       "      <td>Not what you think  Propagandist  PRO zionist ...</td>\n",
       "      <td>1</td>\n",
       "      <td>0.0</td>\n",
       "      <td>https://pbs.twimg.com/media/EfDF2TjXYAE_a4h.jpg</td>\n",
       "      <td>NaN</td>\n",
       "      <td>Not what you think  Propagandist  PRO zionist ...</td>\n",
       "    </tr>\n",
       "    <tr>\n",
       "      <th>2</th>\n",
       "      <td>2</td>\n",
       "      <td>1275918779831238656</td>\n",
       "      <td>I'm probably blackpilled due to years of zog p...</td>\n",
       "      <td>1</td>\n",
       "      <td>0.0</td>\n",
       "      <td>https://pbs.twimg.com/media/EbT5XA8WsAYauDY.jpg</td>\n",
       "      <td>DI\\nFORTH CARO\\nROHO.</td>\n",
       "      <td>I'm probably blackpilled due to years of zog p...</td>\n",
       "    </tr>\n",
       "    <tr>\n",
       "      <th>3</th>\n",
       "      <td>3</td>\n",
       "      <td>1293090052252135424</td>\n",
       "      <td>The latest proof that trump has managed to sim...</td>\n",
       "      <td>1</td>\n",
       "      <td>0.0</td>\n",
       "      <td>https://pbs.twimg.com/media/EfH6jEXUMAAziFs.jpg</td>\n",
       "      <td>Verizon\\nQ4%\\n12:34 AM\\nforward.com\\nNews » Na...</td>\n",
       "      <td>The latest proof that trump has managed to sim...</td>\n",
       "    </tr>\n",
       "    <tr>\n",
       "      <th>4</th>\n",
       "      <td>4</td>\n",
       "      <td>1293251961031204865</td>\n",
       "      <td>Your Holiness, I would like to inform you that...</td>\n",
       "      <td>1</td>\n",
       "      <td>2.0</td>\n",
       "      <td>https://pbs.twimg.com/media/EfKNNTSXkAAnCBw.jpg</td>\n",
       "      <td>NaN</td>\n",
       "      <td>Your Holiness, I would like to inform you that...</td>\n",
       "    </tr>\n",
       "    <tr>\n",
       "      <th>...</th>\n",
       "      <td>...</td>\n",
       "      <td>...</td>\n",
       "      <td>...</td>\n",
       "      <td>...</td>\n",
       "      <td>...</td>\n",
       "      <td>...</td>\n",
       "      <td>...</td>\n",
       "      <td>...</td>\n",
       "    </tr>\n",
       "    <tr>\n",
       "      <th>1216</th>\n",
       "      <td>1216</td>\n",
       "      <td>1316617182244081664</td>\n",
       "      <td>False. No peoples or nations know Egypt more s...</td>\n",
       "      <td>0</td>\n",
       "      <td>NaN</td>\n",
       "      <td>https://pbs.twimg.com/media/EkWQVebVkAIAo54.jpg</td>\n",
       "      <td>HOLY WAR\\nCONCEPT ART\\n\"IF I HAVE NOT CRAVED G...</td>\n",
       "      <td>False. No peoples or nations know Egypt more s...</td>\n",
       "    </tr>\n",
       "    <tr>\n",
       "      <th>1217</th>\n",
       "      <td>1217</td>\n",
       "      <td>1316363815764791296</td>\n",
       "      <td>When the harvest and the harvesters are small,...</td>\n",
       "      <td>0</td>\n",
       "      <td>NaN</td>\n",
       "      <td>https://pbs.twimg.com/media/EkSp6jYXcAE8sTK.jpg</td>\n",
       "      <td>NaN</td>\n",
       "      <td>When the harvest and the harvesters are small,...</td>\n",
       "    </tr>\n",
       "    <tr>\n",
       "      <th>1218</th>\n",
       "      <td>1218</td>\n",
       "      <td>1316626398853787650</td>\n",
       "      <td>According to a Hebrew Proverb the best investm...</td>\n",
       "      <td>0</td>\n",
       "      <td>NaN</td>\n",
       "      <td>https://pbs.twimg.com/media/EkWYr4sVgAESnUz.jpg</td>\n",
       "      <td>He is not a full man\\nwho does not own a\\npiec...</td>\n",
       "      <td>According to a Hebrew Proverb the best investm...</td>\n",
       "    </tr>\n",
       "    <tr>\n",
       "      <th>1219</th>\n",
       "      <td>1219</td>\n",
       "      <td>1316630714960543750</td>\n",
       "      <td>There are two ways to find Hashem, three world...</td>\n",
       "      <td>0</td>\n",
       "      <td>NaN</td>\n",
       "      <td>https://pbs.twimg.com/media/EkWcqDsXYAAqonW.jpg</td>\n",
       "      <td>זה ימשך עד עולם: יט (א)\\nלמנצח, יבאר כי כבוד ה...</td>\n",
       "      <td>There are two ways to find Hashem, three world...</td>\n",
       "    </tr>\n",
       "    <tr>\n",
       "      <th>1220</th>\n",
       "      <td>1220</td>\n",
       "      <td>772685844910080000</td>\n",
       "      <td>Time to stop the Christ-killer Blairites.</td>\n",
       "      <td>1</td>\n",
       "      <td>2.0</td>\n",
       "      <td>https://pbs.twimg.com/media/CrkhITeWgAAuV4R.jpg</td>\n",
       "      <td>REMAIN\\nFOR\\nWORKERS\\nRIGHTS\\nAlan Bowring\\n2,...</td>\n",
       "      <td>Time to stop the Christ-killer Blairites.  REM...</td>\n",
       "    </tr>\n",
       "  </tbody>\n",
       "</table>\n",
       "<p>1221 rows × 8 columns</p>\n",
       "</div>\n",
       "      <button class=\"colab-df-convert\" onclick=\"convertToInteractive('df-7c52da9f-ef59-4731-a98f-c018e0892f7b')\"\n",
       "              title=\"Convert this dataframe to an interactive table.\"\n",
       "              style=\"display:none;\">\n",
       "        \n",
       "  <svg xmlns=\"http://www.w3.org/2000/svg\" height=\"24px\"viewBox=\"0 0 24 24\"\n",
       "       width=\"24px\">\n",
       "    <path d=\"M0 0h24v24H0V0z\" fill=\"none\"/>\n",
       "    <path d=\"M18.56 5.44l.94 2.06.94-2.06 2.06-.94-2.06-.94-.94-2.06-.94 2.06-2.06.94zm-11 1L8.5 8.5l.94-2.06 2.06-.94-2.06-.94L8.5 2.5l-.94 2.06-2.06.94zm10 10l.94 2.06.94-2.06 2.06-.94-2.06-.94-.94-2.06-.94 2.06-2.06.94z\"/><path d=\"M17.41 7.96l-1.37-1.37c-.4-.4-.92-.59-1.43-.59-.52 0-1.04.2-1.43.59L10.3 9.45l-7.72 7.72c-.78.78-.78 2.05 0 2.83L4 21.41c.39.39.9.59 1.41.59.51 0 1.02-.2 1.41-.59l7.78-7.78 2.81-2.81c.8-.78.8-2.07 0-2.86zM5.41 20L4 18.59l7.72-7.72 1.47 1.35L5.41 20z\"/>\n",
       "  </svg>\n",
       "      </button>\n",
       "      \n",
       "  <style>\n",
       "    .colab-df-container {\n",
       "      display:flex;\n",
       "      flex-wrap:wrap;\n",
       "      gap: 12px;\n",
       "    }\n",
       "\n",
       "    .colab-df-convert {\n",
       "      background-color: #E8F0FE;\n",
       "      border: none;\n",
       "      border-radius: 50%;\n",
       "      cursor: pointer;\n",
       "      display: none;\n",
       "      fill: #1967D2;\n",
       "      height: 32px;\n",
       "      padding: 0 0 0 0;\n",
       "      width: 32px;\n",
       "    }\n",
       "\n",
       "    .colab-df-convert:hover {\n",
       "      background-color: #E2EBFA;\n",
       "      box-shadow: 0px 1px 2px rgba(60, 64, 67, 0.3), 0px 1px 3px 1px rgba(60, 64, 67, 0.15);\n",
       "      fill: #174EA6;\n",
       "    }\n",
       "\n",
       "    [theme=dark] .colab-df-convert {\n",
       "      background-color: #3B4455;\n",
       "      fill: #D2E3FC;\n",
       "    }\n",
       "\n",
       "    [theme=dark] .colab-df-convert:hover {\n",
       "      background-color: #434B5C;\n",
       "      box-shadow: 0px 1px 3px 1px rgba(0, 0, 0, 0.15);\n",
       "      filter: drop-shadow(0px 1px 2px rgba(0, 0, 0, 0.3));\n",
       "      fill: #FFFFFF;\n",
       "    }\n",
       "  </style>\n",
       "\n",
       "      <script>\n",
       "        const buttonEl =\n",
       "          document.querySelector('#df-7c52da9f-ef59-4731-a98f-c018e0892f7b button.colab-df-convert');\n",
       "        buttonEl.style.display =\n",
       "          google.colab.kernel.accessAllowed ? 'block' : 'none';\n",
       "\n",
       "        async function convertToInteractive(key) {\n",
       "          const element = document.querySelector('#df-7c52da9f-ef59-4731-a98f-c018e0892f7b');\n",
       "          const dataTable =\n",
       "            await google.colab.kernel.invokeFunction('convertToInteractive',\n",
       "                                                     [key], {});\n",
       "          if (!dataTable) return;\n",
       "\n",
       "          const docLinkHtml = 'Like what you see? Visit the ' +\n",
       "            '<a target=\"_blank\" href=https://colab.research.google.com/notebooks/data_table.ipynb>data table notebook</a>'\n",
       "            + ' to learn more about interactive tables.';\n",
       "          element.innerHTML = '';\n",
       "          dataTable['output_type'] = 'display_data';\n",
       "          await google.colab.output.renderOutput(dataTable, element);\n",
       "          const docLink = document.createElement('div');\n",
       "          docLink.innerHTML = docLinkHtml;\n",
       "          element.appendChild(docLink);\n",
       "        }\n",
       "      </script>\n",
       "    </div>\n",
       "  </div>\n",
       "  "
      ],
      "text/plain": [
       "      Unnamed: 0                   id  \\\n",
       "0              0  1291817243278553088   \n",
       "1              1  1292750633104289792   \n",
       "2              2  1275918779831238656   \n",
       "3              3  1293090052252135424   \n",
       "4              4  1293251961031204865   \n",
       "...          ...                  ...   \n",
       "1216        1216  1316617182244081664   \n",
       "1217        1217  1316363815764791296   \n",
       "1218        1218  1316626398853787650   \n",
       "1219        1219  1316630714960543750   \n",
       "1220        1220   772685844910080000   \n",
       "\n",
       "                                                   text  classification  \\\n",
       "0                                Y'all are the future.                0   \n",
       "1     Not what you think  Propagandist  PRO zionist ...               1   \n",
       "2     I'm probably blackpilled due to years of zog p...               1   \n",
       "3     The latest proof that trump has managed to sim...               1   \n",
       "4     Your Holiness, I would like to inform you that...               1   \n",
       "...                                                 ...             ...   \n",
       "1216  False. No peoples or nations know Egypt more s...               0   \n",
       "1217  When the harvest and the harvesters are small,...               0   \n",
       "1218  According to a Hebrew Proverb the best investm...               0   \n",
       "1219  There are two ways to find Hashem, three world...               0   \n",
       "1220         Time to stop the Christ-killer Blairites.                1   \n",
       "\n",
       "      type_of_antisemitism                                        image_url  \\\n",
       "0                      NaN  https://pbs.twimg.com/media/Ee107xJXsAIYK_l.jpg   \n",
       "1                      0.0  https://pbs.twimg.com/media/EfDF2TjXYAE_a4h.jpg   \n",
       "2                      0.0  https://pbs.twimg.com/media/EbT5XA8WsAYauDY.jpg   \n",
       "3                      0.0  https://pbs.twimg.com/media/EfH6jEXUMAAziFs.jpg   \n",
       "4                      2.0  https://pbs.twimg.com/media/EfKNNTSXkAAnCBw.jpg   \n",
       "...                    ...                                              ...   \n",
       "1216                   NaN  https://pbs.twimg.com/media/EkWQVebVkAIAo54.jpg   \n",
       "1217                   NaN  https://pbs.twimg.com/media/EkSp6jYXcAE8sTK.jpg   \n",
       "1218                   NaN  https://pbs.twimg.com/media/EkWYr4sVgAESnUz.jpg   \n",
       "1219                   NaN  https://pbs.twimg.com/media/EkWcqDsXYAAqonW.jpg   \n",
       "1220                   2.0  https://pbs.twimg.com/media/CrkhITeWgAAuV4R.jpg   \n",
       "\n",
       "                                                    ocr  \\\n",
       "0                                                 BB hh   \n",
       "1                                                   NaN   \n",
       "2                                 DI\\nFORTH CARO\\nROHO.   \n",
       "3     Verizon\\nQ4%\\n12:34 AM\\nforward.com\\nNews » Na...   \n",
       "4                                                   NaN   \n",
       "...                                                 ...   \n",
       "1216  HOLY WAR\\nCONCEPT ART\\n\"IF I HAVE NOT CRAVED G...   \n",
       "1217                                                NaN   \n",
       "1218  He is not a full man\\nwho does not own a\\npiec...   \n",
       "1219  זה ימשך עד עולם: יט (א)\\nלמנצח, יבאר כי כבוד ה...   \n",
       "1220  REMAIN\\nFOR\\nWORKERS\\nRIGHTS\\nAlan Bowring\\n2,...   \n",
       "\n",
       "                                          combined_text  \n",
       "0                          Y'all are the future.  BB hh  \n",
       "1     Not what you think  Propagandist  PRO zionist ...  \n",
       "2     I'm probably blackpilled due to years of zog p...  \n",
       "3     The latest proof that trump has managed to sim...  \n",
       "4     Your Holiness, I would like to inform you that...  \n",
       "...                                                 ...  \n",
       "1216  False. No peoples or nations know Egypt more s...  \n",
       "1217  When the harvest and the harvesters are small,...  \n",
       "1218  According to a Hebrew Proverb the best investm...  \n",
       "1219  There are two ways to find Hashem, three world...  \n",
       "1220  Time to stop the Christ-killer Blairites.  REM...  \n",
       "\n",
       "[1221 rows x 8 columns]"
      ]
     },
     "execution_count": 6,
     "metadata": {},
     "output_type": "execute_result"
    }
   ],
   "source": [
    "df['combined_text'] = df['text'].astype(str) + \" \" + df['ocr'].astype(str)\n",
    "df"
   ]
  },
  {
   "cell_type": "code",
   "execution_count": null,
   "metadata": {
    "colab": {
     "base_uri": "https://localhost:8080/"
    },
    "executionInfo": {
     "elapsed": 2144,
     "status": "ok",
     "timestamp": 1656522851576,
     "user": {
      "displayName": "Julia Chen",
      "userId": "11211254849500354622"
     },
     "user_tz": 240
    },
    "id": "pnl8hG00Td0k",
    "outputId": "f89a0cc7-4a97-4d90-aaab-77fe16bfdfba"
   },
   "outputs": [
    {
     "name": "stderr",
     "output_type": "stream",
     "text": [
      "100%|██████████| 231508/231508 [00:00<00:00, 3570656.09B/s]\n"
     ]
    },
    {
     "name": "stdout",
     "output_type": "stream",
     "text": [
      "Tokenize the first sentence:\n",
      "['[CLS]', 'y', \"'\", 'all', 'are', 'the', 'future', '.', '[SEP]']\n",
      "1221\n",
      "[[ 101 1061 1005 ...    0    0    0]\n",
      " [ 101 2025 2054 ...    0    0    0]\n",
      " [ 101 1045 1005 ...    0    0    0]\n",
      " ...\n",
      " [ 101 2429 2000 ...    0    0    0]\n",
      " [ 101 2045 2024 ...    0    0    0]\n",
      " [ 101 2051 2000 ...    0    0    0]]\n"
     ]
    }
   ],
   "source": [
    "#BERT needs to understand 2 things:\n",
    "#1) The start and end of each sentiment\n",
    "# so we declare a special token CLS which tells BERT that its a classification task\n",
    "tweets = df['text']\n",
    "tweet = [\"[CLS] \"+str(i)+\" [SEP]\" for i in tweets]\n",
    "\n",
    "# Tokenize with BERT tokenizer\n",
    "tokenizer = BertTokenizer.from_pretrained('bert-base-uncased', do_lower_case=True)\n",
    "\n",
    "# Restricting the max size of Tokens to 512(BERT doest accept any more than this)\n",
    "tokenized_texts = list(map(lambda t: tokenizer.tokenize(t)[:510] , tweet))\n",
    "print (\"Tokenize the first sentence:\")\n",
    "print (tokenized_texts[0])\n",
    "\n",
    "labels = list(df['classification']) #storing the labels\n",
    "\n",
    "# Set the maximum sequence length. \n",
    "MAX_LEN = 128\n",
    "\n",
    "# Pad our input tokens so that everything has a uniform length\n",
    "input_ids = pad_sequences(list(map(tokenizer.convert_tokens_to_ids, tokenized_texts)),\n",
    "                          maxlen=MAX_LEN, dtype=\"long\", truncating=\"post\", padding=\"post\")\n",
    "\n",
    "# Use the BERT tokenizer to convert the tokens to their index numbers in the BERT vocabulary\n",
    "input_ids = [tokenizer.convert_tokens_to_ids(x) for x in tokenized_texts]\n",
    "input_ids = pad_sequences(input_ids, maxlen=MAX_LEN, dtype=\"long\", truncating=\"post\", padding=\"post\")\n",
    "\n",
    "\n",
    "x_traincv = input_ids\n",
    "print(len(input_ids))\n",
    "print(x_traincv)\n"
   ]
  },
  {
   "cell_type": "code",
   "execution_count": null,
   "metadata": {
    "id": "FIS1CZdHTWJw"
   },
   "outputs": [],
   "source": [
    "X = np.array(df['text'])\n",
    "Y = np.array(df['classification'])\n",
    "k = np.unique(Y)"
   ]
  },
  {
   "cell_type": "code",
   "execution_count": null,
   "metadata": {
    "colab": {
     "base_uri": "https://localhost:8080/"
    },
    "executionInfo": {
     "elapsed": 20744,
     "status": "ok",
     "timestamp": 1656522902860,
     "user": {
      "displayName": "Julia Chen",
      "userId": "11211254849500354622"
     },
     "user_tz": 240
    },
    "id": "lvncyx3eT_Mm",
    "outputId": "94a4149c-ab39-46cb-d8d5-c5af880a8c4c"
   },
   "outputs": [
    {
     "name": "stderr",
     "output_type": "stream",
     "text": [
      "/usr/local/lib/python3.7/dist-packages/sklearn/manifold/_t_sne.py:783: FutureWarning: The default initialization in TSNE will change from 'random' to 'pca' in 1.2.\n",
      "  FutureWarning,\n",
      "/usr/local/lib/python3.7/dist-packages/sklearn/manifold/_t_sne.py:793: FutureWarning: The default learning rate in TSNE will change from 200.0 to 'auto' in 1.2.\n",
      "  FutureWarning,\n"
     ]
    }
   ],
   "source": [
    "#tsne embedding\n",
    "model = TSNE(n_components=2, random_state=0)\n",
    "tsne = model.fit_transform(x_traincv)"
   ]
  },
  {
   "cell_type": "code",
   "execution_count": null,
   "metadata": {
    "colab": {
     "base_uri": "https://localhost:8080/",
     "height": 248
    },
    "executionInfo": {
     "elapsed": 421,
     "status": "ok",
     "timestamp": 1656522928645,
     "user": {
      "displayName": "Julia Chen",
      "userId": "11211254849500354622"
     },
     "user_tz": 240
    },
    "id": "qpu8oDuFVFve",
    "outputId": "302d0d4a-358d-493d-bfa2-9c073b45aeac"
   },
   "outputs": [
    {
     "data": {
      "image/png": "[encoded data removed]",
      "text/plain": [
       "<Figure size 432x288 with 1 Axes>"
      ]
     },
     "metadata": {
      "needs_background": "light"
     },
     "output_type": "display_data"
    }
   ],
   "source": [
    "#plot tsne embedding\n",
    "for c in np.unique(Y):\n",
    "  idx = np.where(Y[:]==c)[0]\n",
    "  plt.scatter(x=tsne[idx,0], y=tsne[idx,1], s=35, alpha=0.5, label=k[c])\n",
    "\n",
    "plt.axis('off')\n",
    "plt.legend(bbox_to_anchor=(1.05, 1), loc='upper left', ncol=1)\n",
    "#plt.savefig(\"/content/drive/MyDrive/tsnePlots/BERTantisemitismPlot.pdf\", bbox_inches='tight')\n",
    "plt.show()"
   ]
  }
 ],
 "metadata": {
  "colab": {
   "collapsed_sections": [],
   "provenance": [
    {
     "file_id": "1yNMogNpmlHueGTCW21NPSAcUpaJpaSQH",
     "timestamp": 1656961547624
    },
    {
     "file_id": "1MN_Xt5KgfvJt1BOGzsPBdTjvKOxMj6Kw",
     "timestamp": 1656522540734
    },
    {
     "file_id": "114NSAw_ZiVh6pPyrgYY27QOH9iyVa2zq",
     "timestamp": 1627565663919
    }
   ]
  },
  "kernelspec": {
   "display_name": "Python 3 (ipykernel)",
   "language": "python",
   "name": "python3"
  },
  "language_info": {
   "codemirror_mode": {
    "name": "ipython",
    "version": 3
   },
   "file_extension": ".py",
   "mimetype": "text/x-python",
   "name": "python",
   "nbconvert_exporter": "python",
   "pygments_lexer": "ipython3",
   "version": "3.10.6"
  }
 },
 "nbformat": 4,
 "nbformat_minor": 1
}
