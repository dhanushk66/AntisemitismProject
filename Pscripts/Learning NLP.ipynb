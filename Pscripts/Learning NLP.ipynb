{
 "cells": [
  {
   "cell_type": "code",
   "execution_count": 8,
   "id": "b4920f05",
   "metadata": {},
   "outputs": [],
   "source": [
    "import nltk;\n"
   ]
  },
  {
   "cell_type": "code",
   "execution_count": 2,
   "id": "eeb5164c",
   "metadata": {},
   "outputs": [
    {
     "data": {
      "text/plain": [
       "1161192"
      ]
     },
     "execution_count": 2,
     "metadata": {},
     "output_type": "execute_result"
    }
   ],
   "source": [
    "from nltk.corpus import *;\n",
    "len(brown.words())"
   ]
  },
  {
   "cell_type": "code",
   "execution_count": 3,
   "id": "990f369d",
   "metadata": {},
   "outputs": [
    {
     "name": "stdout",
     "output_type": "stream",
     "text": [
      "*** Introductory Examples for the NLTK Book ***\n",
      "Loading text1, ..., text9 and sent1, ..., sent9\n",
      "Type the name of the text or sentence to view it.\n",
      "Type: 'texts()' or 'sents()' to list the materials.\n",
      "text1: Moby Dick by Herman Melville 1851\n",
      "text2: Sense and Sensibility by Jane Austen 1811\n",
      "text3: The Book of Genesis\n",
      "text4: Inaugural Address Corpus\n",
      "text5: Chat Corpus\n",
      "text6: Monty Python and the Holy Grail\n",
      "text7: Wall Street Journal\n",
      "text8: Personals Corpus\n",
      "text9: The Man Who Was Thursday by G . K . Chesterton 1908\n"
     ]
    }
   ],
   "source": [
    "from nltk.book import *;"
   ]
  },
  {
   "cell_type": "code",
   "execution_count": 4,
   "id": "8477dff9",
   "metadata": {},
   "outputs": [
    {
     "data": {
      "text/plain": [
       "['adventure',\n",
       " 'belles_lettres',\n",
       " 'editorial',\n",
       " 'fiction',\n",
       " 'government',\n",
       " 'hobbies',\n",
       " 'humor',\n",
       " 'learned',\n",
       " 'lore',\n",
       " 'mystery',\n",
       " 'news',\n",
       " 'religion',\n",
       " 'reviews',\n",
       " 'romance',\n",
       " 'science_fiction']"
      ]
     },
     "execution_count": 4,
     "metadata": {},
     "output_type": "execute_result"
    }
   ],
   "source": [
    "from nltk.corpus import brown;\n",
    "brown.categories()"
   ]
  },
  {
   "cell_type": "code",
   "execution_count": null,
   "id": "1b1ad05b",
   "metadata": {},
   "outputs": [],
   "source": [
    "words1=brown.words(categories='news')\n",
    "words1"
   ]
  },
  {
   "cell_type": "code",
   "execution_count": null,
   "id": "302abc4f",
   "metadata": {},
   "outputs": [],
   "source": [
    "len(words1)"
   ]
  },
  {
   "cell_type": "code",
   "execution_count": 9,
   "id": "50743f25",
   "metadata": {},
   "outputs": [
    {
     "data": {
      "text/plain": [
       "{'a',\n",
       " 'about',\n",
       " 'above',\n",
       " 'after',\n",
       " 'again',\n",
       " 'against',\n",
       " 'ain',\n",
       " 'all',\n",
       " 'am',\n",
       " 'an',\n",
       " 'and',\n",
       " 'any',\n",
       " 'are',\n",
       " 'aren',\n",
       " \"aren't\",\n",
       " 'as',\n",
       " 'at',\n",
       " 'be',\n",
       " 'because',\n",
       " 'been',\n",
       " 'before',\n",
       " 'being',\n",
       " 'below',\n",
       " 'between',\n",
       " 'both',\n",
       " 'but',\n",
       " 'by',\n",
       " 'can',\n",
       " 'couldn',\n",
       " \"couldn't\",\n",
       " 'd',\n",
       " 'did',\n",
       " 'didn',\n",
       " \"didn't\",\n",
       " 'do',\n",
       " 'does',\n",
       " 'doesn',\n",
       " \"doesn't\",\n",
       " 'doing',\n",
       " 'don',\n",
       " \"don't\",\n",
       " 'down',\n",
       " 'during',\n",
       " 'each',\n",
       " 'few',\n",
       " 'for',\n",
       " 'from',\n",
       " 'further',\n",
       " 'had',\n",
       " 'hadn',\n",
       " \"hadn't\",\n",
       " 'has',\n",
       " 'hasn',\n",
       " \"hasn't\",\n",
       " 'have',\n",
       " 'haven',\n",
       " \"haven't\",\n",
       " 'having',\n",
       " 'he',\n",
       " 'her',\n",
       " 'here',\n",
       " 'hers',\n",
       " 'herself',\n",
       " 'him',\n",
       " 'himself',\n",
       " 'his',\n",
       " 'how',\n",
       " 'i',\n",
       " 'if',\n",
       " 'in',\n",
       " 'into',\n",
       " 'is',\n",
       " 'isn',\n",
       " \"isn't\",\n",
       " 'it',\n",
       " \"it's\",\n",
       " 'its',\n",
       " 'itself',\n",
       " 'just',\n",
       " 'll',\n",
       " 'm',\n",
       " 'ma',\n",
       " 'me',\n",
       " 'mightn',\n",
       " \"mightn't\",\n",
       " 'more',\n",
       " 'most',\n",
       " 'mustn',\n",
       " \"mustn't\",\n",
       " 'my',\n",
       " 'myself',\n",
       " 'needn',\n",
       " \"needn't\",\n",
       " 'no',\n",
       " 'nor',\n",
       " 'not',\n",
       " 'now',\n",
       " 'o',\n",
       " 'of',\n",
       " 'off',\n",
       " 'on',\n",
       " 'once',\n",
       " 'only',\n",
       " 'or',\n",
       " 'other',\n",
       " 'our',\n",
       " 'ours',\n",
       " 'ourselves',\n",
       " 'out',\n",
       " 'over',\n",
       " 'own',\n",
       " 're',\n",
       " 's',\n",
       " 'same',\n",
       " 'shan',\n",
       " \"shan't\",\n",
       " 'she',\n",
       " \"she's\",\n",
       " 'should',\n",
       " \"should've\",\n",
       " 'shouldn',\n",
       " \"shouldn't\",\n",
       " 'so',\n",
       " 'some',\n",
       " 'such',\n",
       " 't',\n",
       " 'than',\n",
       " 'that',\n",
       " \"that'll\",\n",
       " 'the',\n",
       " 'their',\n",
       " 'theirs',\n",
       " 'them',\n",
       " 'themselves',\n",
       " 'then',\n",
       " 'there',\n",
       " 'these',\n",
       " 'they',\n",
       " 'this',\n",
       " 'those',\n",
       " 'through',\n",
       " 'to',\n",
       " 'too',\n",
       " 'under',\n",
       " 'until',\n",
       " 'up',\n",
       " 've',\n",
       " 'very',\n",
       " 'was',\n",
       " 'wasn',\n",
       " \"wasn't\",\n",
       " 'we',\n",
       " 'were',\n",
       " 'weren',\n",
       " \"weren't\",\n",
       " 'what',\n",
       " 'when',\n",
       " 'where',\n",
       " 'which',\n",
       " 'while',\n",
       " 'who',\n",
       " 'whom',\n",
       " 'why',\n",
       " 'will',\n",
       " 'with',\n",
       " 'won',\n",
       " \"won't\",\n",
       " 'wouldn',\n",
       " \"wouldn't\",\n",
       " 'y',\n",
       " 'you',\n",
       " \"you'd\",\n",
       " \"you'll\",\n",
       " \"you're\",\n",
       " \"you've\",\n",
       " 'your',\n",
       " 'yours',\n",
       " 'yourself',\n",
       " 'yourselves'}"
      ]
     },
     "execution_count": 9,
     "metadata": {},
     "output_type": "execute_result"
    }
   ],
   "source": [
    "from nltk.corpus import stopwords;\n",
    "set(stopwords.words(\"english\"))"
   ]
  },
  {
   "cell_type": "code",
   "execution_count": 10,
   "id": "4c7c9082",
   "metadata": {},
   "outputs": [
    {
     "data": {
      "text/plain": [
       "['good', 'boy']"
      ]
     },
     "execution_count": 10,
     "metadata": {},
     "output_type": "execute_result"
    }
   ],
   "source": [
    "from nltk.tokenize import word_tokenize;\n",
    "string=\"i am a good boy \";\n",
    "stop_words=stopwords.words(\"english\")\n",
    "token_words=word_tokenize(string)\n",
    "\n",
    "new_sentence=[];\n",
    "for w in token_words:\n",
    "     if w not in stop_words:\n",
    "        new_sentence.append(w)\n",
    "new_sentence\n",
    "        "
   ]
  },
  {
   "cell_type": "code",
   "execution_count": 11,
   "id": "3d125b4d",
   "metadata": {},
   "outputs": [
    {
     "name": "stdout",
     "output_type": "stream",
     "text": [
      "work\n",
      "as\n",
      "develop\n",
      "in\n",
      "post\n",
      "world\n"
     ]
    }
   ],
   "source": [
    "from nltk.stem import PorterStemmer \n",
    "new_text=\"working as developing in posted world\"\n",
    "word_token=word_tokenize(new_text)\n",
    "\n",
    "for w in word_token:\n",
    "    print(PorterStemmer().stem(w))"
   ]
  },
  {
   "cell_type": "code",
   "execution_count": 12,
   "id": "873b048e",
   "metadata": {},
   "outputs": [
    {
     "name": "stdout",
     "output_type": "stream",
     "text": [
      "goose\n",
      "love\n"
     ]
    }
   ],
   "source": [
    "from nltk.stem import WordNetLemmatizer\n",
    "lematizer=WordNetLemmatizer()\n",
    "print(lematizer.lemmatize(\"geese\"))\n",
    "print(lematizer.lemmatize(\"loving\",'v'))"
   ]
  },
  {
   "cell_type": "code",
   "execution_count": null,
   "id": "7f435179",
   "metadata": {},
   "outputs": [],
   "source": []
  },
  {
   "cell_type": "code",
   "execution_count": 23,
   "id": "0dcaa6b2",
   "metadata": {},
   "outputs": [
    {
     "name": "stdout",
     "output_type": "stream",
     "text": [
      "['contrast', 'previous', 'efforts', 'looked', 'text', 'sequence', 'either', 'left', 'right', 'combined', 'left-to-right', 'right-to-left', 'training', '.']\n",
      "['The', 'paper', '’', 'results', 'show', 'language', 'model', 'bidirectionally', 'trained', 'deeper', 'sense', 'language', 'context', 'flow', 'single-direction', 'language', 'models']\n"
     ]
    }
   ],
   "source": [
    "from nltk.tokenize import sent_tokenize;\n",
    "text='''\n",
    "        contrast to previous efforts which looked at a text sequence \n",
    "        either from left to right or combined left-to-right and right-to-left \n",
    "        training. The paper’s results show that a language model which is bidirectionally  \n",
    "        trained can have a deeper sense of language context and flow than single-direction language models'''\n",
    "stop_words=stopwords.words(\"english\")\n",
    "tokenized =sent_tokenize(text)\n",
    "s=[]\n",
    "for i in tokenized:\n",
    "        word_token=word_tokenize(i)\n",
    "        word_token=[w for w in word_token if not w in stop_words]\n",
    "        s.append(nltk.pos_tag(word_token))\n",
    "\n",
    "for i in s:\n",
    "    for j in i:\n",
    "        if j[1]=='NN':\n",
    "            print(j)\n",
    "        \n",
    "    \n"
   ]
  },
  {
   "cell_type": "code",
   "execution_count": 26,
   "id": "50c75cf6",
   "metadata": {},
   "outputs": [
    {
     "name": "stdout",
     "output_type": "stream",
     "text": [
      "[]\n"
     ]
    }
   ],
   "source": [
    "import nltk\n",
    "\n",
    "text='''google america dhanush contrast to previous efforts which looked at a text sequence \n",
    "        either from left to right or combined left-to-right and right-to-left \n",
    "        training. The paper’s results show that a language model which is bidirectionally  \n",
    "        trained can have a deeper sense of language context and flow than single-direction language models'''\n",
    "word_token=word_tokenize(text)\n",
    "pos_tag=nltk.pos_tag(word_token)\n",
    "ne_chunked_sent=nltk.ne_chunk(pos_tag)\n",
    "named_entities=[]\n",
    "for i in ne_chunked_sent:\n",
    "    if hasattr(i,'label'):\n",
    "        entity_name=' '.join(c[0] for c in i.leaves())\n",
    "        entity_label=i.label()\n",
    "        named_entities.append((entity_name,entity_label))\n",
    "print(named_entities)\n",
    "    \n"
   ]
  },
  {
   "cell_type": "code",
   "execution_count": 6,
   "id": "20a40252",
   "metadata": {},
   "outputs": [],
   "source": [
    "\n",
    "a=2\n",
    "if a==2:\n",
    "    print(\"Correct\")\n",
    "elif a==4:\n",
    "    print(\"Correct\")\n",
    "else:\n",
    "    print(\"Wrong\")"
   ]
  },
  {
   "cell_type": "code",
   "execution_count": 6,
   "id": "bb6e3dfc",
   "metadata": {},
   "outputs": [
    {
     "data": {
      "text/plain": [
       "['a', 'b', 'c']"
      ]
     },
     "execution_count": 6,
     "metadata": {},
     "output_type": "execute_result"
    }
   ],
   "source": [
    "list1=['a','b']\n",
    "list1+['c']"
   ]
  },
  {
   "cell_type": "code",
   "execution_count": 29,
   "id": "0dcea9b8",
   "metadata": {},
   "outputs": [
    {
     "name": "stdout",
     "output_type": "stream",
     "text": [
      "2\n",
      "3\n",
      "4\n",
      "5\n",
      "6\n",
      "7\n",
      "8\n",
      "9\n"
     ]
    }
   ],
   "source": [
    "n=10\n",
    "for i in range(2,n):\n",
    "    if i>1:\n",
    "        for j in range(2,i):\n",
    "            if i%j==0:\n",
    "                break\n",
    "        print(i)"
   ]
  }
 ],
 "metadata": {
  "kernelspec": {
   "display_name": "Python 3 (ipykernel)",
   "language": "python",
   "name": "python3"
  },
  "language_info": {
   "codemirror_mode": {
    "name": "ipython",
    "version": 3
   },
   "file_extension": ".py",
   "mimetype": "text/x-python",
   "name": "python",
   "nbconvert_exporter": "python",
   "pygments_lexer": "ipython3",
   "version": "3.10.6"
  }
 },
 "nbformat": 4,
 "nbformat_minor": 5
}
