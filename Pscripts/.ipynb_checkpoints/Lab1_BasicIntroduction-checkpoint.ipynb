{
 "cells": [
  {
   "cell_type": "code",
   "execution_count": 4,
   "id": "b6a75252",
   "metadata": {},
   "outputs": [
    {
     "data": {
      "text/plain": [
       "array([[0.56, 0.87, 0.46, 0.28, 0.82, 0.44],\n",
       "       [0.73, 0.63, 0.58, 0.02, 0.48, 0.35],\n",
       "       [0.73, 0.23, 0.86, 0.95, 0.65, 0.24],\n",
       "       [0.79, 0.78, 0.87, 0.95, 0.82, 0.18],\n",
       "       [0.49, 0.35, 0.6 , 0.88, 0.58, 0.53],\n",
       "       [0.72, 0.15, 0.07, 0.36, 0.28, 0.54]])"
      ]
     },
     "execution_count": 4,
     "metadata": {},
     "output_type": "execute_result"
    }
   ],
   "source": [
    "import numpy as np\n",
    "a=np.random.rand(6,6).round(2)\n",
    "a"
   ]
  }
 ],
 "metadata": {
  "kernelspec": {
   "display_name": "Python 3 (ipykernel)",
   "language": "python",
   "name": "python3"
  },
  "language_info": {
   "codemirror_mode": {
    "name": "ipython",
    "version": 3
   },
   "file_extension": ".py",
   "mimetype": "text/x-python",
   "name": "python",
   "nbconvert_exporter": "python",
   "pygments_lexer": "ipython3",
   "version": "3.10.6"
  }
 },
 "nbformat": 4,
 "nbformat_minor": 5
}
