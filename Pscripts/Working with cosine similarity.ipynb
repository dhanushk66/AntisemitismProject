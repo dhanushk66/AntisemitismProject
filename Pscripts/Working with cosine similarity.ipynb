{
 "cells": [
  {
   "cell_type": "code",
   "execution_count": 314,
   "id": "89565cdd",
   "metadata": {},
   "outputs": [],
   "source": [
    "from sentence_transformers import SentenceTransformer\n",
    "from sklearn.metrics.pairwise import cosine_similarity\n",
    "import pandas as pd\n",
    "import numpy as np\n",
    "import sys\n",
    "from sklearn.metrics import confusion_matrix\n",
    "np.set_printoptions(threshold=sys.maxsize)"
   ]
  },
  {
   "cell_type": "code",
   "execution_count": 230,
   "id": "f1a5bf78",
   "metadata": {},
   "outputs": [],
   "source": [
    "sentences=[\n",
    "    'The dog feels happy whenever it finds excellent food',\n",
    "    'happy dog is one that find food everytime',\n",
    "    'food always make a dog happy',\n",
    "    'knife will be very sharp when we heat it',\n",
    "    'finding food make dog happy',\n",
    "    'In common parlance, it may be described as a species of wild dog with close affinity to the bear',\n",
    "    'riding a rolarcoaster is so adventures',\n",
    "    'when I am doing swing,its so trilling ',\n",
    "    'In the early part of his criminal career, he committed rape, which led to his arrest.',\n",
    "    'In 2007, O.J. Simpson was charged with robbery, kidnapping, coercion and conspiracy.',\n",
    "    'In an age of world terrorism we have got misplaced manipulate of our borders.',\n",
    "    'A hacker hacked all survailance systems and robbed money from all the accounts',\n",
    "    'The Healthy Pup Check Up toy contains a soft play Beagle with huge, adorable eyes and various doctor accessories',\n",
    "    'He never really hurt me with his shots because he is not a big puncher, but he is a brilliant boxer',\n",
    "    'The English Bulldogs usually placid demeanor and affectionate nature makes it the perfect pet for all ages of people.',\n",
    "    'there are many breeds for this animal',\n",
    "    'The bottle is empty.',\n",
    "    'There nothing in the container',\n",
    "    'Teacher punished two students for what doing homework',\n",
    "    'seberian husky fought with the poodle and finnaly won',\n",
    "    'President greets the press in Chicago',\n",
    "    'Obama speaks in Illinois',\n",
    "    'The mouse fell from my hands and it broke.',\n",
    "    'The cat was chasing a mouse and died.',\n",
    "    'I have beacame very intrested in owing a german shepherd',\n",
    "    'cat looks very cute when it is drinking milk',\n",
    "    'snakes are very friendly in nature',\n",
    "    'They are often used as guide, therapy, search-and-rescue, police, military, and narcotics and explosives ',\n",
    "    'He is a well-proportioned dog. The head is broad and tapers handsomely to a sharp muzzle',\n",
    "    'the breed caught the public eye because of movie stars Strongheart',\n",
    "    'GSD are protective of their loved ones',\n",
    "    'Affenpinschers have strong, bold temperaments and are charming and entertaining companions',\n",
    "    'The Akita is a muscular, double-coated dog of ancient Japanese lineage famous for their dignity, courage, and loyalty.'\n",
    "]\n",
    "\n",
    "model='bert-base-nli-mean-tokens'"
   ]
  },
  {
   "cell_type": "code",
   "execution_count": 244,
   "id": "d797c0ec",
   "metadata": {},
   "outputs": [],
   "source": [
    "sentences1=['when a place of worship is attacked or when leaflets attacking another religion',\n",
    "            'many countries that have opened their arms and humans have found refugee',\n",
    "            'governments lack a justice system that protects these crimes against religions.',\n",
    "            'There are many antisemtic posts in the social media making influence to other people and attacking someother',\n",
    "            'group of people decide to put men’s beliefs aside and follow a religion or a deity of their own, conflict emerges as fast as explosive granite',\n",
    "            'It is a shame that we must see crimes in every aspect of our lives',\n",
    "           'An unqualified person kept wrong resume and got the job']"
   ]
  },
  {
   "cell_type": "code",
   "execution_count": 219,
   "id": "9b4e9c39",
   "metadata": {},
   "outputs": [],
   "source": [
    "sentences2=['My family is considering buying a Bulldog.',\n",
    "            'We are using him for make our children play',\n",
    "            ' It has a short fine coat that is coloured tan, white, reddish brown, brindle, or piebald',\n",
    "            'This breed is a great overall family pet but it is not a guard or attack animal.'\n",
    "            ' Remember, the child-like faith an English Bulldog puts in you is a great gift and should never be betrayed.',\n",
    "            'people also call me as a english dog and also with my nichname sourmug',\n",
    "            'They are prone to more health problems than most breeds due to their short muzzle and flattened facial structure']"
   ]
  },
  {
   "cell_type": "code",
   "execution_count": 268,
   "id": "8863ab54",
   "metadata": {},
   "outputs": [],
   "source": [
    "sentence_embed=SentenceTransformer(model)"
   ]
  },
  {
   "cell_type": "code",
   "execution_count": 252,
   "id": "3e8afc79",
   "metadata": {},
   "outputs": [
    {
     "data": {
      "text/plain": [
       "array([[ 0.7162942 ,  0.6552118 ,  0.96713096, ..., -0.43243054,\n",
       "        -0.50170624,  0.14011107],\n",
       "       [ 0.18256266,  0.5230912 ,  0.51856285, ...,  0.39126092,\n",
       "        -0.4515094 ,  0.14712453],\n",
       "       [ 0.43745866,  1.187895  ,  0.3355548 , ..., -0.21549244,\n",
       "        -0.8657392 , -0.11488309],\n",
       "       ...,\n",
       "       [ 0.34060165,  0.65906477,  1.4135543 , ..., -0.11018664,\n",
       "        -0.18585072,  0.22419594],\n",
       "       [ 0.29515556,  0.9361398 ,  0.58557755, ..., -0.3611612 ,\n",
       "        -0.3838889 ,  0.2457879 ],\n",
       "       [-0.13469535,  0.35372916,  0.7667208 , ..., -0.3439042 ,\n",
       "        -0.64051574,  0.28136978]], dtype=float32)"
      ]
     },
     "execution_count": 252,
     "metadata": {},
     "output_type": "execute_result"
    }
   ],
   "source": [
    "embed=sentence_embed.encode(sentences1)\n",
    "embed"
   ]
  },
  {
   "cell_type": "code",
   "execution_count": 240,
   "id": "7935e14d",
   "metadata": {},
   "outputs": [
    {
     "data": {
      "text/plain": [
       "(6, 768)"
      ]
     },
     "execution_count": 240,
     "metadata": {},
     "output_type": "execute_result"
    }
   ],
   "source": [
    "embed.shape"
   ]
  },
  {
   "cell_type": "code",
   "execution_count": 309,
   "id": "ddfb75cf",
   "metadata": {},
   "outputs": [
    {
     "data": {
      "text/plain": [
       "array([[0.99999976, 0.44933483, 0.56868595, 0.61685824, 0.6732552 ,\n",
       "        0.5677196 , 0.3527115 ],\n",
       "       [0.44933483, 0.9999998 , 0.22969005, 0.55429065, 0.38382196,\n",
       "        0.45687154, 0.3049698 ],\n",
       "       [0.56868595, 0.22969005, 1.0000001 , 0.3937787 , 0.60417104,\n",
       "        0.4905003 , 0.4399179 ],\n",
       "       [0.61685824, 0.55429065, 0.3937787 , 0.9999999 , 0.44427294,\n",
       "        0.6127673 , 0.31324756],\n",
       "       [0.6732552 , 0.38382196, 0.60417104, 0.44427294, 0.9999997 ,\n",
       "        0.5831647 , 0.52404404],\n",
       "       [0.5677196 , 0.45687154, 0.4905003 , 0.6127673 , 0.5831647 ,\n",
       "        1.        , 0.5028274 ],\n",
       "       [0.3527115 , 0.3049698 , 0.4399179 , 0.31324756, 0.52404404,\n",
       "        0.5028274 , 1.        ]], dtype=float32)"
      ]
     },
     "execution_count": 309,
     "metadata": {},
     "output_type": "execute_result"
    }
   ],
   "source": [
    "cosine_similarity(\n",
    "   embed[:],\n",
    "    embed[:]\n",
    ")"
   ]
  },
  {
   "cell_type": "code",
   "execution_count": 266,
   "id": "29395105",
   "metadata": {},
   "outputs": [],
   "source": [
    "data=pd.read_csv(\"/Users/dhanushkikkisetti/Documents/Datasets/Creating Text data.csv\",encoding='latin1')\n",
    "data=data[['Type','Sentences']]\n",
    "dog_data=data[data['Type']=='dog']\n",
    "dog_data=list(dog_data['Sentences'].astype(str))\n",
    "crimes=data[data['Type']=='Crime']\n",
    "crimes=list(crimes['Sentences'].astype(str))"
   ]
  },
  {
   "cell_type": "code",
   "execution_count": 304,
   "id": "b3389b24",
   "metadata": {},
   "outputs": [],
   "source": [
    "embed_dogs=sentence_embed.encode(dog_data)\n",
    "embed_crimes=sentence_embed.encode(crimes)"
   ]
  },
  {
   "cell_type": "code",
   "execution_count": 332,
   "id": "aaf01988",
   "metadata": {},
   "outputs": [
    {
     "name": "stdout",
     "output_type": "stream",
     "text": [
      "4\n"
     ]
    }
   ],
   "source": [
    "x=cosine_similarity(\n",
    "   embed_dogs[:],\n",
    "    embed_crimes[:]\n",
    ")\n",
    "x.shape\n",
    "\n",
    "cut_off=0.6\n",
    "new_x=np.zeros_like(x)\n",
    "new_x[x>cut_off]=1\n",
    "#print(new_x)\n",
    "count = np.count_nonzero(new_x == 1)\n",
    "print(count)\n",
    "#text_x=np.zeros_like(x)"
   ]
  },
  {
   "cell_type": "code",
   "execution_count": 311,
   "id": "f7840def",
   "metadata": {},
   "outputs": [
    {
     "data": {
      "text/plain": [
       "(17, 17)"
      ]
     },
     "execution_count": 311,
     "metadata": {},
     "output_type": "execute_result"
    }
   ],
   "source": [
    "cm=confusion_matrix(text_x.argmax(axis=0),new_x.argmax(axis=0))\n",
    "\n",
    "cm.shape"
   ]
  }
 ],
 "metadata": {
  "kernelspec": {
   "display_name": "Python 3 (ipykernel)",
   "language": "python",
   "name": "python3"
  },
  "language_info": {
   "codemirror_mode": {
    "name": "ipython",
    "version": 3
   },
   "file_extension": ".py",
   "mimetype": "text/x-python",
   "name": "python",
   "nbconvert_exporter": "python",
   "pygments_lexer": "ipython3",
   "version": "3.10.6"
  }
 },
 "nbformat": 4,
 "nbformat_minor": 5
}
