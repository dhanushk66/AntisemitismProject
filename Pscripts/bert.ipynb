{
 "cells": [
  {
   "cell_type": "code",
   "execution_count": 1,
   "metadata": {
    "colab": {
     "base_uri": "https://localhost:8080/",
     "height": 1000
    },
    "executionInfo": {
     "elapsed": 91646,
     "status": "ok",
     "timestamp": 1666710189863,
     "user": {
      "displayName": "kikkisetti dhanush",
      "userId": "16589890571846927677"
     },
     "user_tz": 240
    },
    "id": "2FrI8yHnqLBo",
    "outputId": "a2cffa45-71fa-4dc6-f283-2cdb56b9253a"
   },
   "outputs": [
    {
     "name": "stdout",
     "output_type": "stream",
     "text": [
      "Found existing installation: tensorflow 2.10.0\n",
      "Uninstalling tensorflow-2.10.0:\n",
      "  Successfully uninstalled tensorflow-2.10.0\n",
      "Note: you may need to restart the kernel to use updated packages.\n"
     ]
    }
   ],
   "source": [
    "pip uninstall tensorflow --yes\n"
   ]
  },
  {
   "cell_type": "code",
   "execution_count": 3,
   "metadata": {},
   "outputs": [
    {
     "name": "stdout",
     "output_type": "stream",
     "text": [
      "Collecting tensorflow\n",
      "  Using cached tensorflow-2.10.0-cp39-cp39-macosx_10_14_x86_64.whl (241.2 MB)\n",
      "Requirement already satisfied: keras-preprocessing>=1.1.1 in /Users/dhanushkikkisetti/opt/anaconda3/lib/python3.9/site-packages (from tensorflow) (1.1.2)\n",
      "Requirement already satisfied: flatbuffers>=2.0 in /Users/dhanushkikkisetti/opt/anaconda3/lib/python3.9/site-packages (from tensorflow) (22.9.24)\n",
      "Requirement already satisfied: wrapt>=1.11.0 in /Users/dhanushkikkisetti/opt/anaconda3/lib/python3.9/site-packages (from tensorflow) (1.14.1)\n",
      "Requirement already satisfied: absl-py>=1.0.0 in /Users/dhanushkikkisetti/opt/anaconda3/lib/python3.9/site-packages (from tensorflow) (1.3.0)\n",
      "Requirement already satisfied: tensorflow-io-gcs-filesystem>=0.23.1 in /Users/dhanushkikkisetti/opt/anaconda3/lib/python3.9/site-packages (from tensorflow) (0.27.0)\n",
      "Requirement already satisfied: six>=1.12.0 in /Users/dhanushkikkisetti/opt/anaconda3/lib/python3.9/site-packages (from tensorflow) (1.16.0)\n",
      "Requirement already satisfied: google-pasta>=0.1.1 in /Users/dhanushkikkisetti/opt/anaconda3/lib/python3.9/site-packages (from tensorflow) (0.2.0)\n",
      "Requirement already satisfied: numpy>=1.20 in /Users/dhanushkikkisetti/opt/anaconda3/lib/python3.9/site-packages (from tensorflow) (1.21.5)\n",
      "Requirement already satisfied: h5py>=2.9.0 in /Users/dhanushkikkisetti/opt/anaconda3/lib/python3.9/site-packages (from tensorflow) (3.7.0)\n",
      "Requirement already satisfied: tensorboard<2.11,>=2.10 in /Users/dhanushkikkisetti/opt/anaconda3/lib/python3.9/site-packages (from tensorflow) (2.10.1)\n",
      "Requirement already satisfied: libclang>=13.0.0 in /Users/dhanushkikkisetti/opt/anaconda3/lib/python3.9/site-packages (from tensorflow) (14.0.6)\n",
      "Requirement already satisfied: packaging in /Users/dhanushkikkisetti/opt/anaconda3/lib/python3.9/site-packages (from tensorflow) (21.3)\n",
      "Requirement already satisfied: keras<2.11,>=2.10.0 in /Users/dhanushkikkisetti/opt/anaconda3/lib/python3.9/site-packages (from tensorflow) (2.10.0)\n",
      "Requirement already satisfied: opt-einsum>=2.3.2 in /Users/dhanushkikkisetti/opt/anaconda3/lib/python3.9/site-packages (from tensorflow) (3.3.0)\n",
      "Requirement already satisfied: astunparse>=1.6.0 in /Users/dhanushkikkisetti/opt/anaconda3/lib/python3.9/site-packages (from tensorflow) (1.6.3)\n",
      "Requirement already satisfied: typing-extensions>=3.6.6 in /Users/dhanushkikkisetti/opt/anaconda3/lib/python3.9/site-packages (from tensorflow) (4.3.0)\n",
      "Requirement already satisfied: gast<=0.4.0,>=0.2.1 in /Users/dhanushkikkisetti/opt/anaconda3/lib/python3.9/site-packages (from tensorflow) (0.4.0)\n",
      "Requirement already satisfied: termcolor>=1.1.0 in /Users/dhanushkikkisetti/opt/anaconda3/lib/python3.9/site-packages (from tensorflow) (2.0.1)\n",
      "Requirement already satisfied: setuptools in /Users/dhanushkikkisetti/opt/anaconda3/lib/python3.9/site-packages (from tensorflow) (63.4.1)\n",
      "Requirement already satisfied: tensorflow-estimator<2.11,>=2.10.0 in /Users/dhanushkikkisetti/opt/anaconda3/lib/python3.9/site-packages (from tensorflow) (2.10.0)\n",
      "Requirement already satisfied: grpcio<2.0,>=1.24.3 in /Users/dhanushkikkisetti/opt/anaconda3/lib/python3.9/site-packages (from tensorflow) (1.50.0)\n",
      "Requirement already satisfied: protobuf<3.20,>=3.9.2 in /Users/dhanushkikkisetti/opt/anaconda3/lib/python3.9/site-packages (from tensorflow) (3.19.6)\n",
      "Requirement already satisfied: wheel<1.0,>=0.23.0 in /Users/dhanushkikkisetti/opt/anaconda3/lib/python3.9/site-packages (from astunparse>=1.6.0->tensorflow) (0.37.1)\n",
      "Requirement already satisfied: google-auth-oauthlib<0.5,>=0.4.1 in /Users/dhanushkikkisetti/opt/anaconda3/lib/python3.9/site-packages (from tensorboard<2.11,>=2.10->tensorflow) (0.4.6)\n",
      "Requirement already satisfied: google-auth<3,>=1.6.3 in /Users/dhanushkikkisetti/opt/anaconda3/lib/python3.9/site-packages (from tensorboard<2.11,>=2.10->tensorflow) (2.13.0)\n",
      "Requirement already satisfied: werkzeug>=1.0.1 in /Users/dhanushkikkisetti/opt/anaconda3/lib/python3.9/site-packages (from tensorboard<2.11,>=2.10->tensorflow) (2.0.3)\n",
      "Requirement already satisfied: tensorboard-plugin-wit>=1.6.0 in /Users/dhanushkikkisetti/opt/anaconda3/lib/python3.9/site-packages (from tensorboard<2.11,>=2.10->tensorflow) (1.8.1)\n",
      "Requirement already satisfied: markdown>=2.6.8 in /Users/dhanushkikkisetti/opt/anaconda3/lib/python3.9/site-packages (from tensorboard<2.11,>=2.10->tensorflow) (3.3.4)\n",
      "Requirement already satisfied: requests<3,>=2.21.0 in /Users/dhanushkikkisetti/opt/anaconda3/lib/python3.9/site-packages (from tensorboard<2.11,>=2.10->tensorflow) (2.28.1)\n",
      "Requirement already satisfied: tensorboard-data-server<0.7.0,>=0.6.0 in /Users/dhanushkikkisetti/opt/anaconda3/lib/python3.9/site-packages (from tensorboard<2.11,>=2.10->tensorflow) (0.6.1)\n",
      "Requirement already satisfied: pyparsing!=3.0.5,>=2.0.2 in /Users/dhanushkikkisetti/opt/anaconda3/lib/python3.9/site-packages (from packaging->tensorflow) (3.0.9)\n",
      "Requirement already satisfied: cachetools<6.0,>=2.0.0 in /Users/dhanushkikkisetti/opt/anaconda3/lib/python3.9/site-packages (from google-auth<3,>=1.6.3->tensorboard<2.11,>=2.10->tensorflow) (5.2.0)\n",
      "Requirement already satisfied: pyasn1-modules>=0.2.1 in /Users/dhanushkikkisetti/opt/anaconda3/lib/python3.9/site-packages (from google-auth<3,>=1.6.3->tensorboard<2.11,>=2.10->tensorflow) (0.2.8)\n",
      "Requirement already satisfied: rsa<5,>=3.1.4 in /Users/dhanushkikkisetti/opt/anaconda3/lib/python3.9/site-packages (from google-auth<3,>=1.6.3->tensorboard<2.11,>=2.10->tensorflow) (4.9)\n",
      "Requirement already satisfied: requests-oauthlib>=0.7.0 in /Users/dhanushkikkisetti/opt/anaconda3/lib/python3.9/site-packages (from google-auth-oauthlib<0.5,>=0.4.1->tensorboard<2.11,>=2.10->tensorflow) (1.3.1)\n",
      "Requirement already satisfied: idna<4,>=2.5 in /Users/dhanushkikkisetti/opt/anaconda3/lib/python3.9/site-packages (from requests<3,>=2.21.0->tensorboard<2.11,>=2.10->tensorflow) (3.3)\n",
      "Requirement already satisfied: certifi>=2017.4.17 in /Users/dhanushkikkisetti/opt/anaconda3/lib/python3.9/site-packages (from requests<3,>=2.21.0->tensorboard<2.11,>=2.10->tensorflow) (2022.9.24)\n",
      "Requirement already satisfied: charset-normalizer<3,>=2 in /Users/dhanushkikkisetti/opt/anaconda3/lib/python3.9/site-packages (from requests<3,>=2.21.0->tensorboard<2.11,>=2.10->tensorflow) (2.0.4)\n",
      "Requirement already satisfied: urllib3<1.27,>=1.21.1 in /Users/dhanushkikkisetti/opt/anaconda3/lib/python3.9/site-packages (from requests<3,>=2.21.0->tensorboard<2.11,>=2.10->tensorflow) (1.26.11)\n",
      "Requirement already satisfied: pyasn1<0.5.0,>=0.4.6 in /Users/dhanushkikkisetti/opt/anaconda3/lib/python3.9/site-packages (from pyasn1-modules>=0.2.1->google-auth<3,>=1.6.3->tensorboard<2.11,>=2.10->tensorflow) (0.4.8)\n",
      "Requirement already satisfied: oauthlib>=3.0.0 in /Users/dhanushkikkisetti/opt/anaconda3/lib/python3.9/site-packages (from requests-oauthlib>=0.7.0->google-auth-oauthlib<0.5,>=0.4.1->tensorboard<2.11,>=2.10->tensorflow) (3.2.2)\n",
      "Installing collected packages: tensorflow\n",
      "Successfully installed tensorflow-2.10.0\n",
      "Note: you may need to restart the kernel to use updated packages.\n"
     ]
    }
   ],
   "source": [
    "pip install tensorflow "
   ]
  },
  {
   "cell_type": "code",
   "execution_count": 2,
   "metadata": {},
   "outputs": [
    {
     "name": "stdout",
     "output_type": "stream",
     "text": [
      "Collecting tensorflow_hub\n",
      "  Using cached tensorflow_hub-0.12.0-py2.py3-none-any.whl (108 kB)\n",
      "Requirement already satisfied: numpy>=1.12.0 in /Users/dhanushkikkisetti/opt/anaconda3/lib/python3.9/site-packages (from tensorflow_hub) (1.21.5)\n",
      "Collecting protobuf>=3.8.0\n",
      "  Downloading protobuf-4.21.8-cp37-abi3-macosx_10_9_universal2.whl (484 kB)\n",
      "\u001b[2K     \u001b[90m━━━━━━━━━━━━━━━━━━━━━━━━━━━━━━━━━━━━━━━\u001b[0m \u001b[32m484.2/484.2 kB\u001b[0m \u001b[31m8.8 MB/s\u001b[0m eta \u001b[36m0:00:00\u001b[0m00:01\u001b[0m\n",
      "\u001b[?25hInstalling collected packages: protobuf, tensorflow_hub\n",
      "Successfully installed protobuf-4.21.8 tensorflow_hub-0.12.0\n",
      "Note: you may need to restart the kernel to use updated packages.\n"
     ]
    }
   ],
   "source": [
    "pip install tensorflow_hub"
   ]
  },
  {
   "cell_type": "code",
   "execution_count": null,
   "metadata": {
    "id": "LqGY7kqRNzJT"
   },
   "outputs": [],
   "source": [
    "import pandas as pd\n",
    "import numpy as np\n",
    "import matplotlib as mt\n",
    "import tensorflow as tf\n",
    "\n"
   ]
  },
  {
   "cell_type": "code",
   "execution_count": 1,
   "metadata": {
    "id": "ZcNmQd0eQbfR"
   },
   "outputs": [],
   "source": [
    "encoder='https://tfhub.dev/tensorflow/bert_en_uncased_L-12_H-768_A-12/4'\n",
    "preprocess='https://tfhub.dev/tensorflow/bert_en_uncased_preprocess/3'"
   ]
  },
  {
   "cell_type": "code",
   "execution_count": null,
   "metadata": {
    "colab": {
     "base_uri": "https://localhost:8080/",
     "height": 74
    },
    "collapsed": true,
    "executionInfo": {
     "elapsed": 8678,
     "status": "ok",
     "timestamp": 1666710247699,
     "user": {
      "displayName": "kikkisetti dhanush",
      "userId": "16589890571846927677"
     },
     "user_tz": 240
    },
    "id": "p-9tK1iiRlgv",
    "outputId": "189a9547-8da6-4de2-e7a0-a6c4705da52b"
   },
   "outputs": [
    {
     "data": {
      "text/html": [
       "\n",
       "     <input type=\"file\" id=\"files-52365968-ca16-4323-b51a-c20b444d2eb1\" name=\"files[]\" multiple disabled\n",
       "        style=\"border:none\" />\n",
       "     <output id=\"result-52365968-ca16-4323-b51a-c20b444d2eb1\">\n",
       "      Upload widget is only available when the cell has been executed in the\n",
       "      current browser session. Please rerun this cell to enable.\n",
       "      </output>\n",
       "      <script>// Copyright 2017 Google LLC\n",
       "//\n",
       "// Licensed under the Apache License, Version 2.0 (the \"License\");\n",
       "// you may not use this file except in compliance with the License.\n",
       "// You may obtain a copy of the License at\n",
       "//\n",
       "//      http://www.apache.org/licenses/LICENSE-2.0\n",
       "//\n",
       "// Unless required by applicable law or agreed to in writing, software\n",
       "// distributed under the License is distributed on an \"AS IS\" BASIS,\n",
       "// WITHOUT WARRANTIES OR CONDITIONS OF ANY KIND, either express or implied.\n",
       "// See the License for the specific language governing permissions and\n",
       "// limitations under the License.\n",
       "\n",
       "/**\n",
       " * @fileoverview Helpers for google.colab Python module.\n",
       " */\n",
       "(function(scope) {\n",
       "function span(text, styleAttributes = {}) {\n",
       "  const element = document.createElement('span');\n",
       "  element.textContent = text;\n",
       "  for (const key of Object.keys(styleAttributes)) {\n",
       "    element.style[key] = styleAttributes[key];\n",
       "  }\n",
       "  return element;\n",
       "}\n",
       "\n",
       "// Max number of bytes which will be uploaded at a time.\n",
       "const MAX_PAYLOAD_SIZE = 100 * 1024;\n",
       "\n",
       "function _uploadFiles(inputId, outputId) {\n",
       "  const steps = uploadFilesStep(inputId, outputId);\n",
       "  const outputElement = document.getElementById(outputId);\n",
       "  // Cache steps on the outputElement to make it available for the next call\n",
       "  // to uploadFilesContinue from Python.\n",
       "  outputElement.steps = steps;\n",
       "\n",
       "  return _uploadFilesContinue(outputId);\n",
       "}\n",
       "\n",
       "// This is roughly an async generator (not supported in the browser yet),\n",
       "// where there are multiple asynchronous steps and the Python side is going\n",
       "// to poll for completion of each step.\n",
       "// This uses a Promise to block the python side on completion of each step,\n",
       "// then passes the result of the previous step as the input to the next step.\n",
       "function _uploadFilesContinue(outputId) {\n",
       "  const outputElement = document.getElementById(outputId);\n",
       "  const steps = outputElement.steps;\n",
       "\n",
       "  const next = steps.next(outputElement.lastPromiseValue);\n",
       "  return Promise.resolve(next.value.promise).then((value) => {\n",
       "    // Cache the last promise value to make it available to the next\n",
       "    // step of the generator.\n",
       "    outputElement.lastPromiseValue = value;\n",
       "    return next.value.response;\n",
       "  });\n",
       "}\n",
       "\n",
       "/**\n",
       " * Generator function which is called between each async step of the upload\n",
       " * process.\n",
       " * @param {string} inputId Element ID of the input file picker element.\n",
       " * @param {string} outputId Element ID of the output display.\n",
       " * @return {!Iterable<!Object>} Iterable of next steps.\n",
       " */\n",
       "function* uploadFilesStep(inputId, outputId) {\n",
       "  const inputElement = document.getElementById(inputId);\n",
       "  inputElement.disabled = false;\n",
       "\n",
       "  const outputElement = document.getElementById(outputId);\n",
       "  outputElement.innerHTML = '';\n",
       "\n",
       "  const pickedPromise = new Promise((resolve) => {\n",
       "    inputElement.addEventListener('change', (e) => {\n",
       "      resolve(e.target.files);\n",
       "    });\n",
       "  });\n",
       "\n",
       "  const cancel = document.createElement('button');\n",
       "  inputElement.parentElement.appendChild(cancel);\n",
       "  cancel.textContent = 'Cancel upload';\n",
       "  const cancelPromise = new Promise((resolve) => {\n",
       "    cancel.onclick = () => {\n",
       "      resolve(null);\n",
       "    };\n",
       "  });\n",
       "\n",
       "  // Wait for the user to pick the files.\n",
       "  const files = yield {\n",
       "    promise: Promise.race([pickedPromise, cancelPromise]),\n",
       "    response: {\n",
       "      action: 'starting',\n",
       "    }\n",
       "  };\n",
       "\n",
       "  cancel.remove();\n",
       "\n",
       "  // Disable the input element since further picks are not allowed.\n",
       "  inputElement.disabled = true;\n",
       "\n",
       "  if (!files) {\n",
       "    return {\n",
       "      response: {\n",
       "        action: 'complete',\n",
       "      }\n",
       "    };\n",
       "  }\n",
       "\n",
       "  for (const file of files) {\n",
       "    const li = document.createElement('li');\n",
       "    li.append(span(file.name, {fontWeight: 'bold'}));\n",
       "    li.append(span(\n",
       "        `(${file.type || 'n/a'}) - ${file.size} bytes, ` +\n",
       "        `last modified: ${\n",
       "            file.lastModifiedDate ? file.lastModifiedDate.toLocaleDateString() :\n",
       "                                    'n/a'} - `));\n",
       "    const percent = span('0% done');\n",
       "    li.appendChild(percent);\n",
       "\n",
       "    outputElement.appendChild(li);\n",
       "\n",
       "    const fileDataPromise = new Promise((resolve) => {\n",
       "      const reader = new FileReader();\n",
       "      reader.onload = (e) => {\n",
       "        resolve(e.target.result);\n",
       "      };\n",
       "      reader.readAsArrayBuffer(file);\n",
       "    });\n",
       "    // Wait for the data to be ready.\n",
       "    let fileData = yield {\n",
       "      promise: fileDataPromise,\n",
       "      response: {\n",
       "        action: 'continue',\n",
       "      }\n",
       "    };\n",
       "\n",
       "    // Use a chunked sending to avoid message size limits. See b/62115660.\n",
       "    let position = 0;\n",
       "    do {\n",
       "      const length = Math.min(fileData.byteLength - position, MAX_PAYLOAD_SIZE);\n",
       "      const chunk = new Uint8Array(fileData, position, length);\n",
       "      position += length;\n",
       "\n",
       "      const base64 = btoa(String.fromCharCode.apply(null, chunk));\n",
       "      yield {\n",
       "        response: {\n",
       "          action: 'append',\n",
       "          file: file.name,\n",
       "          data: base64,\n",
       "        },\n",
       "      };\n",
       "\n",
       "      let percentDone = fileData.byteLength === 0 ?\n",
       "          100 :\n",
       "          Math.round((position / fileData.byteLength) * 100);\n",
       "      percent.textContent = `${percentDone}% done`;\n",
       "\n",
       "    } while (position < fileData.byteLength);\n",
       "  }\n",
       "\n",
       "  // All done.\n",
       "  yield {\n",
       "    response: {\n",
       "      action: 'complete',\n",
       "    }\n",
       "  };\n",
       "}\n",
       "\n",
       "scope.google = scope.google || {};\n",
       "scope.google.colab = scope.google.colab || {};\n",
       "scope.google.colab._files = {\n",
       "  _uploadFiles,\n",
       "  _uploadFilesContinue,\n",
       "};\n",
       "})(self);\n",
       "</script> "
      ],
      "text/plain": [
       "<IPython.core.display.HTML object>"
      ]
     },
     "metadata": {},
     "output_type": "display_data"
    },
    {
     "name": "stdout",
     "output_type": "stream",
     "text": [
      "Saving antisemitism_combined.csv to antisemitism_combined.csv\n"
     ]
    }
   ],
   "source": [
    "uploaded=files.upload()"
   ]
  },
  {
   "cell_type": "code",
   "execution_count": null,
   "metadata": {
    "colab": {
     "base_uri": "https://localhost:8080/",
     "height": 1000
    },
    "collapsed": true,
    "executionInfo": {
     "elapsed": 468,
     "status": "ok",
     "timestamp": 1666716334454,
     "user": {
      "displayName": "kikkisetti dhanush",
      "userId": "16589890571846927677"
     },
     "user_tz": 240
    },
    "id": "J-UhKjB-RmcI",
    "outputId": "c51e6f80-81ac-41dd-a29c-cebd45ed3d6a"
   },
   "outputs": [
    {
     "data": {
      "text/html": [
       "\n",
       "  <div id=\"df-80223fa9-a4ba-4ce5-9367-dcf37e6a082f\">\n",
       "    <div class=\"colab-df-container\">\n",
       "      <div>\n",
       "<style scoped>\n",
       "    .dataframe tbody tr th:only-of-type {\n",
       "        vertical-align: middle;\n",
       "    }\n",
       "\n",
       "    .dataframe tbody tr th {\n",
       "        vertical-align: top;\n",
       "    }\n",
       "\n",
       "    .dataframe thead th {\n",
       "        text-align: right;\n",
       "    }\n",
       "</style>\n",
       "<table border=\"1\" class=\"dataframe\">\n",
       "  <thead>\n",
       "    <tr style=\"text-align: right;\">\n",
       "      <th></th>\n",
       "      <th>Unnamed: 0</th>\n",
       "      <th>Unnamed: 0.1</th>\n",
       "      <th>id</th>\n",
       "      <th>text</th>\n",
       "      <th>classification</th>\n",
       "      <th>type_of_antisemitism</th>\n",
       "      <th>image_url</th>\n",
       "      <th>ocr</th>\n",
       "      <th>combined_text</th>\n",
       "    </tr>\n",
       "  </thead>\n",
       "  <tbody>\n",
       "    <tr>\n",
       "      <th>0</th>\n",
       "      <td>0</td>\n",
       "      <td>0</td>\n",
       "      <td>1291817243278553088</td>\n",
       "      <td>Y'all are the future.</td>\n",
       "      <td>0</td>\n",
       "      <td>NaN</td>\n",
       "      <td>https://pbs.twimg.com/media/Ee107xJXsAIYK_l.jpg</td>\n",
       "      <td>BB hh</td>\n",
       "      <td>Y'all are the future.  BB hh</td>\n",
       "    </tr>\n",
       "    <tr>\n",
       "      <th>1</th>\n",
       "      <td>1</td>\n",
       "      <td>1</td>\n",
       "      <td>1292750633104289792</td>\n",
       "      <td>Not what you think  Propagandist  PRO zionist ...</td>\n",
       "      <td>1</td>\n",
       "      <td>0.0</td>\n",
       "      <td>https://pbs.twimg.com/media/EfDF2TjXYAE_a4h.jpg</td>\n",
       "      <td>NaN</td>\n",
       "      <td>Not what you think  Propagandist  PRO zionist ...</td>\n",
       "    </tr>\n",
       "    <tr>\n",
       "      <th>2</th>\n",
       "      <td>2</td>\n",
       "      <td>2</td>\n",
       "      <td>1275918779831238656</td>\n",
       "      <td>I'm probably blackpilled due to years of zog p...</td>\n",
       "      <td>1</td>\n",
       "      <td>0.0</td>\n",
       "      <td>https://pbs.twimg.com/media/EbT5XA8WsAYauDY.jpg</td>\n",
       "      <td>DI\\nFORTH CARO\\nROHO.</td>\n",
       "      <td>I'm probably blackpilled due to years of zog p...</td>\n",
       "    </tr>\n",
       "    <tr>\n",
       "      <th>3</th>\n",
       "      <td>3</td>\n",
       "      <td>3</td>\n",
       "      <td>1293090052252135424</td>\n",
       "      <td>The latest proof that trump has managed to sim...</td>\n",
       "      <td>1</td>\n",
       "      <td>0.0</td>\n",
       "      <td>https://pbs.twimg.com/media/EfH6jEXUMAAziFs.jpg</td>\n",
       "      <td>Verizon\\nQ4%\\n12:34 AM\\nforward.com\\nNews » Na...</td>\n",
       "      <td>The latest proof that trump has managed to sim...</td>\n",
       "    </tr>\n",
       "    <tr>\n",
       "      <th>4</th>\n",
       "      <td>4</td>\n",
       "      <td>4</td>\n",
       "      <td>1293251961031204865</td>\n",
       "      <td>Your Holiness, I would like to inform you that...</td>\n",
       "      <td>1</td>\n",
       "      <td>2.0</td>\n",
       "      <td>https://pbs.twimg.com/media/EfKNNTSXkAAnCBw.jpg</td>\n",
       "      <td>NaN</td>\n",
       "      <td>Your Holiness, I would like to inform you that...</td>\n",
       "    </tr>\n",
       "    <tr>\n",
       "      <th>...</th>\n",
       "      <td>...</td>\n",
       "      <td>...</td>\n",
       "      <td>...</td>\n",
       "      <td>...</td>\n",
       "      <td>...</td>\n",
       "      <td>...</td>\n",
       "      <td>...</td>\n",
       "      <td>...</td>\n",
       "      <td>...</td>\n",
       "    </tr>\n",
       "    <tr>\n",
       "      <th>1216</th>\n",
       "      <td>1216</td>\n",
       "      <td>1216</td>\n",
       "      <td>1316617182244081664</td>\n",
       "      <td>False. No peoples or nations know Egypt more s...</td>\n",
       "      <td>0</td>\n",
       "      <td>NaN</td>\n",
       "      <td>https://pbs.twimg.com/media/EkWQVebVkAIAo54.jpg</td>\n",
       "      <td>HOLY WAR\\nCONCEPT ART\\n\"IF I HAVE NOT CRAVED G...</td>\n",
       "      <td>False. No peoples or nations know Egypt more s...</td>\n",
       "    </tr>\n",
       "    <tr>\n",
       "      <th>1217</th>\n",
       "      <td>1217</td>\n",
       "      <td>1217</td>\n",
       "      <td>1316363815764791296</td>\n",
       "      <td>When the harvest and the harvesters are small,...</td>\n",
       "      <td>0</td>\n",
       "      <td>NaN</td>\n",
       "      <td>https://pbs.twimg.com/media/EkSp6jYXcAE8sTK.jpg</td>\n",
       "      <td>NaN</td>\n",
       "      <td>When the harvest and the harvesters are small,...</td>\n",
       "    </tr>\n",
       "    <tr>\n",
       "      <th>1218</th>\n",
       "      <td>1218</td>\n",
       "      <td>1218</td>\n",
       "      <td>1316626398853787650</td>\n",
       "      <td>According to a Hebrew Proverb the best investm...</td>\n",
       "      <td>0</td>\n",
       "      <td>NaN</td>\n",
       "      <td>https://pbs.twimg.com/media/EkWYr4sVgAESnUz.jpg</td>\n",
       "      <td>He is not a full man\\nwho does not own a\\npiec...</td>\n",
       "      <td>According to a Hebrew Proverb the best investm...</td>\n",
       "    </tr>\n",
       "    <tr>\n",
       "      <th>1219</th>\n",
       "      <td>1219</td>\n",
       "      <td>1219</td>\n",
       "      <td>1316630714960543750</td>\n",
       "      <td>There are two ways to find Hashem, three world...</td>\n",
       "      <td>0</td>\n",
       "      <td>NaN</td>\n",
       "      <td>https://pbs.twimg.com/media/EkWcqDsXYAAqonW.jpg</td>\n",
       "      <td>זה ימשך עד עולם: יט (א)\\nלמנצח, יבאר כי כבוד ה...</td>\n",
       "      <td>There are two ways to find Hashem, three world...</td>\n",
       "    </tr>\n",
       "    <tr>\n",
       "      <th>1220</th>\n",
       "      <td>1220</td>\n",
       "      <td>1220</td>\n",
       "      <td>772685844910080000</td>\n",
       "      <td>Time to stop the Christ-killer Blairites.</td>\n",
       "      <td>1</td>\n",
       "      <td>2.0</td>\n",
       "      <td>https://pbs.twimg.com/media/CrkhITeWgAAuV4R.jpg</td>\n",
       "      <td>REMAIN\\nFOR\\nWORKERS\\nRIGHTS\\nAlan Bowring\\n2,...</td>\n",
       "      <td>Time to stop the Christ-killer Blairites.  REM...</td>\n",
       "    </tr>\n",
       "  </tbody>\n",
       "</table>\n",
       "<p>1221 rows × 9 columns</p>\n",
       "</div>\n",
       "      <button class=\"colab-df-convert\" onclick=\"convertToInteractive('df-80223fa9-a4ba-4ce5-9367-dcf37e6a082f')\"\n",
       "              title=\"Convert this dataframe to an interactive table.\"\n",
       "              style=\"display:none;\">\n",
       "        \n",
       "  <svg xmlns=\"http://www.w3.org/2000/svg\" height=\"24px\"viewBox=\"0 0 24 24\"\n",
       "       width=\"24px\">\n",
       "    <path d=\"M0 0h24v24H0V0z\" fill=\"none\"/>\n",
       "    <path d=\"M18.56 5.44l.94 2.06.94-2.06 2.06-.94-2.06-.94-.94-2.06-.94 2.06-2.06.94zm-11 1L8.5 8.5l.94-2.06 2.06-.94-2.06-.94L8.5 2.5l-.94 2.06-2.06.94zm10 10l.94 2.06.94-2.06 2.06-.94-2.06-.94-.94-2.06-.94 2.06-2.06.94z\"/><path d=\"M17.41 7.96l-1.37-1.37c-.4-.4-.92-.59-1.43-.59-.52 0-1.04.2-1.43.59L10.3 9.45l-7.72 7.72c-.78.78-.78 2.05 0 2.83L4 21.41c.39.39.9.59 1.41.59.51 0 1.02-.2 1.41-.59l7.78-7.78 2.81-2.81c.8-.78.8-2.07 0-2.86zM5.41 20L4 18.59l7.72-7.72 1.47 1.35L5.41 20z\"/>\n",
       "  </svg>\n",
       "      </button>\n",
       "      \n",
       "  <style>\n",
       "    .colab-df-container {\n",
       "      display:flex;\n",
       "      flex-wrap:wrap;\n",
       "      gap: 12px;\n",
       "    }\n",
       "\n",
       "    .colab-df-convert {\n",
       "      background-color: #E8F0FE;\n",
       "      border: none;\n",
       "      border-radius: 50%;\n",
       "      cursor: pointer;\n",
       "      display: none;\n",
       "      fill: #1967D2;\n",
       "      height: 32px;\n",
       "      padding: 0 0 0 0;\n",
       "      width: 32px;\n",
       "    }\n",
       "\n",
       "    .colab-df-convert:hover {\n",
       "      background-color: #E2EBFA;\n",
       "      box-shadow: 0px 1px 2px rgba(60, 64, 67, 0.3), 0px 1px 3px 1px rgba(60, 64, 67, 0.15);\n",
       "      fill: #174EA6;\n",
       "    }\n",
       "\n",
       "    [theme=dark] .colab-df-convert {\n",
       "      background-color: #3B4455;\n",
       "      fill: #D2E3FC;\n",
       "    }\n",
       "\n",
       "    [theme=dark] .colab-df-convert:hover {\n",
       "      background-color: #434B5C;\n",
       "      box-shadow: 0px 1px 3px 1px rgba(0, 0, 0, 0.15);\n",
       "      filter: drop-shadow(0px 1px 2px rgba(0, 0, 0, 0.3));\n",
       "      fill: #FFFFFF;\n",
       "    }\n",
       "  </style>\n",
       "\n",
       "      <script>\n",
       "        const buttonEl =\n",
       "          document.querySelector('#df-80223fa9-a4ba-4ce5-9367-dcf37e6a082f button.colab-df-convert');\n",
       "        buttonEl.style.display =\n",
       "          google.colab.kernel.accessAllowed ? 'block' : 'none';\n",
       "\n",
       "        async function convertToInteractive(key) {\n",
       "          const element = document.querySelector('#df-80223fa9-a4ba-4ce5-9367-dcf37e6a082f');\n",
       "          const dataTable =\n",
       "            await google.colab.kernel.invokeFunction('convertToInteractive',\n",
       "                                                     [key], {});\n",
       "          if (!dataTable) return;\n",
       "\n",
       "          const docLinkHtml = 'Like what you see? Visit the ' +\n",
       "            '<a target=\"_blank\" href=https://colab.research.google.com/notebooks/data_table.ipynb>data table notebook</a>'\n",
       "            + ' to learn more about interactive tables.';\n",
       "          element.innerHTML = '';\n",
       "          dataTable['output_type'] = 'display_data';\n",
       "          await google.colab.output.renderOutput(dataTable, element);\n",
       "          const docLink = document.createElement('div');\n",
       "          docLink.innerHTML = docLinkHtml;\n",
       "          element.appendChild(docLink);\n",
       "        }\n",
       "      </script>\n",
       "    </div>\n",
       "  </div>\n",
       "  "
      ],
      "text/plain": [
       "      Unnamed: 0  Unnamed: 0.1                   id  \\\n",
       "0              0             0  1291817243278553088   \n",
       "1              1             1  1292750633104289792   \n",
       "2              2             2  1275918779831238656   \n",
       "3              3             3  1293090052252135424   \n",
       "4              4             4  1293251961031204865   \n",
       "...          ...           ...                  ...   \n",
       "1216        1216          1216  1316617182244081664   \n",
       "1217        1217          1217  1316363815764791296   \n",
       "1218        1218          1218  1316626398853787650   \n",
       "1219        1219          1219  1316630714960543750   \n",
       "1220        1220          1220   772685844910080000   \n",
       "\n",
       "                                                   text  classification  \\\n",
       "0                                Y'all are the future.                0   \n",
       "1     Not what you think  Propagandist  PRO zionist ...               1   \n",
       "2     I'm probably blackpilled due to years of zog p...               1   \n",
       "3     The latest proof that trump has managed to sim...               1   \n",
       "4     Your Holiness, I would like to inform you that...               1   \n",
       "...                                                 ...             ...   \n",
       "1216  False. No peoples or nations know Egypt more s...               0   \n",
       "1217  When the harvest and the harvesters are small,...               0   \n",
       "1218  According to a Hebrew Proverb the best investm...               0   \n",
       "1219  There are two ways to find Hashem, three world...               0   \n",
       "1220         Time to stop the Christ-killer Blairites.                1   \n",
       "\n",
       "      type_of_antisemitism                                        image_url  \\\n",
       "0                      NaN  https://pbs.twimg.com/media/Ee107xJXsAIYK_l.jpg   \n",
       "1                      0.0  https://pbs.twimg.com/media/EfDF2TjXYAE_a4h.jpg   \n",
       "2                      0.0  https://pbs.twimg.com/media/EbT5XA8WsAYauDY.jpg   \n",
       "3                      0.0  https://pbs.twimg.com/media/EfH6jEXUMAAziFs.jpg   \n",
       "4                      2.0  https://pbs.twimg.com/media/EfKNNTSXkAAnCBw.jpg   \n",
       "...                    ...                                              ...   \n",
       "1216                   NaN  https://pbs.twimg.com/media/EkWQVebVkAIAo54.jpg   \n",
       "1217                   NaN  https://pbs.twimg.com/media/EkSp6jYXcAE8sTK.jpg   \n",
       "1218                   NaN  https://pbs.twimg.com/media/EkWYr4sVgAESnUz.jpg   \n",
       "1219                   NaN  https://pbs.twimg.com/media/EkWcqDsXYAAqonW.jpg   \n",
       "1220                   2.0  https://pbs.twimg.com/media/CrkhITeWgAAuV4R.jpg   \n",
       "\n",
       "                                                    ocr  \\\n",
       "0                                                 BB hh   \n",
       "1                                                   NaN   \n",
       "2                                 DI\\nFORTH CARO\\nROHO.   \n",
       "3     Verizon\\nQ4%\\n12:34 AM\\nforward.com\\nNews » Na...   \n",
       "4                                                   NaN   \n",
       "...                                                 ...   \n",
       "1216  HOLY WAR\\nCONCEPT ART\\n\"IF I HAVE NOT CRAVED G...   \n",
       "1217                                                NaN   \n",
       "1218  He is not a full man\\nwho does not own a\\npiec...   \n",
       "1219  זה ימשך עד עולם: יט (א)\\nלמנצח, יבאר כי כבוד ה...   \n",
       "1220  REMAIN\\nFOR\\nWORKERS\\nRIGHTS\\nAlan Bowring\\n2,...   \n",
       "\n",
       "                                          combined_text  \n",
       "0                          Y'all are the future.  BB hh  \n",
       "1     Not what you think  Propagandist  PRO zionist ...  \n",
       "2     I'm probably blackpilled due to years of zog p...  \n",
       "3     The latest proof that trump has managed to sim...  \n",
       "4     Your Holiness, I would like to inform you that...  \n",
       "...                                                 ...  \n",
       "1216  False. No peoples or nations know Egypt more s...  \n",
       "1217  When the harvest and the harvesters are small,...  \n",
       "1218  According to a Hebrew Proverb the best investm...  \n",
       "1219  There are two ways to find Hashem, three world...  \n",
       "1220  Time to stop the Christ-killer Blairites.  REM...  \n",
       "\n",
       "[1221 rows x 9 columns]"
      ]
     },
     "execution_count": 4,
     "metadata": {},
     "output_type": "execute_result"
    }
   ],
   "source": [
    "df=pd.read_csv('/content/antisemitism_combined.csv')\n",
    "df"
   ]
  },
  {
   "cell_type": "code",
   "execution_count": null,
   "metadata": {
    "collapsed": true,
    "id": "nl8L2s27Rmek"
   },
   "outputs": [],
   "source": [
    "text1=list(df['text'].astype(str))\n",
    "text2=[\"hi how are you\",\"im good how about you\"]"
   ]
  },
  {
   "cell_type": "code",
   "execution_count": 2,
   "metadata": {
    "colab": {
     "base_uri": "https://localhost:8080/"
    },
    "executionInfo": {
     "elapsed": 3313,
     "status": "ok",
     "timestamp": 1666716344148,
     "user": {
      "displayName": "kikkisetti dhanush",
      "userId": "16589890571846927677"
     },
     "user_tz": 240
    },
    "id": "bwyQTsieRmhi",
    "outputId": "3d355c3e-9cf1-490e-c025-4d1a5a5a25c6"
   },
   "outputs": [
    {
     "ename": "NameError",
     "evalue": "name 'hub' is not defined",
     "output_type": "error",
     "traceback": [
      "\u001b[0;31m---------------------------------------------------------------------------\u001b[0m",
      "\u001b[0;31mNameError\u001b[0m                                 Traceback (most recent call last)",
      "Input \u001b[0;32mIn [2]\u001b[0m, in \u001b[0;36m<cell line: 1>\u001b[0;34m()\u001b[0m\n\u001b[0;32m----> 1\u001b[0m bert_preprocess_model\u001b[38;5;241m=\u001b[39m\u001b[43mhub\u001b[49m\u001b[38;5;241m.\u001b[39mKerasLayer(preprocess)\n",
      "\u001b[0;31mNameError\u001b[0m: name 'hub' is not defined"
     ]
    }
   ],
   "source": [
    "bert_preprocess_model=hub.KerasLayer(preprocess)"
   ]
  },
  {
   "cell_type": "code",
   "execution_count": null,
   "metadata": {
    "colab": {
     "base_uri": "https://localhost:8080/"
    },
    "collapsed": true,
    "executionInfo": {
     "elapsed": 558,
     "status": "ok",
     "timestamp": 1666716344702,
     "user": {
      "displayName": "kikkisetti dhanush",
      "userId": "16589890571846927677"
     },
     "user_tz": 240
    },
    "id": "_T1K9h0QRmkk",
    "outputId": "a304f7f1-8e43-42c0-df7f-83faf98e7d95"
   },
   "outputs": [
    {
     "data": {
      "text/plain": [
       "dict_keys(['input_word_ids', 'input_type_ids', 'input_mask'])"
      ]
     },
     "execution_count": 7,
     "metadata": {},
     "output_type": "execute_result"
    }
   ],
   "source": [
    "text_prepprocessed=bert_preprocess_model(text1)\n",
    "text_prepprocessed.keys()\n"
   ]
  },
  {
   "cell_type": "code",
   "execution_count": null,
   "metadata": {
    "colab": {
     "base_uri": "https://localhost:8080/"
    },
    "collapsed": true,
    "executionInfo": {
     "elapsed": 188,
     "status": "ok",
     "timestamp": 1666711125745,
     "user": {
      "displayName": "kikkisetti dhanush",
      "userId": "16589890571846927677"
     },
     "user_tz": 240
    },
    "id": "XhxnFlbatsMd",
    "outputId": "7f9f36d3-e6f4-425f-dcfe-0b18007653f7"
   },
   "outputs": [
    {
     "data": {
      "text/plain": [
       "<tf.Tensor: shape=(1221, 128), dtype=int32, numpy=\n",
       "array([[1, 1, 1, ..., 0, 0, 0],\n",
       "       [1, 1, 1, ..., 0, 0, 0],\n",
       "       [1, 1, 1, ..., 0, 0, 0],\n",
       "       ...,\n",
       "       [1, 1, 1, ..., 0, 0, 0],\n",
       "       [1, 1, 1, ..., 0, 0, 0],\n",
       "       [1, 1, 1, ..., 0, 0, 0]], dtype=int32)>"
      ]
     },
     "execution_count": 17,
     "metadata": {},
     "output_type": "execute_result"
    }
   ],
   "source": [
    "text_prepprocessed['input_mask']"
   ]
  },
  {
   "cell_type": "code",
   "execution_count": null,
   "metadata": {
    "colab": {
     "base_uri": "https://localhost:8080/"
    },
    "collapsed": true,
    "executionInfo": {
     "elapsed": 109,
     "status": "ok",
     "timestamp": 1666711534799,
     "user": {
      "displayName": "kikkisetti dhanush",
      "userId": "16589890571846927677"
     },
     "user_tz": 240
    },
    "id": "11CgLsJlv4Vq",
    "outputId": "752f0c6f-5df3-4351-8bf3-e96b9280a337"
   },
   "outputs": [
    {
     "data": {
      "text/plain": [
       "<tf.Tensor: shape=(1221, 128), dtype=int32, numpy=\n",
       "array([[ 101, 1061, 1005, ...,    0,    0,    0],\n",
       "       [ 101, 2025, 2054, ...,    0,    0,    0],\n",
       "       [ 101, 1045, 1005, ...,    0,    0,    0],\n",
       "       ...,\n",
       "       [ 101, 2429, 2000, ...,    0,    0,    0],\n",
       "       [ 101, 2045, 2024, ...,    0,    0,    0],\n",
       "       [ 101, 2051, 2000, ...,    0,    0,    0]], dtype=int32)>"
      ]
     },
     "execution_count": 18,
     "metadata": {},
     "output_type": "execute_result"
    }
   ],
   "source": [
    "text_prepprocessed['input_word_ids']"
   ]
  },
  {
   "cell_type": "code",
   "execution_count": null,
   "metadata": {
    "collapsed": true,
    "id": "1n3D3QzC3nq_"
   },
   "outputs": [],
   "source": [
    "#text embedding \n",
    "# after the preprocessing is done(preprocesslayer) then encoder will convert into word embedding\n",
    "bert_model=hub.KerasLayer(encoder)\n"
   ]
  },
  {
   "cell_type": "code",
   "execution_count": null,
   "metadata": {
    "collapsed": true,
    "id": "Kd_UN1F6ABK6"
   },
   "outputs": [],
   "source": [
    "#\"pooled output is embedding of the complete sentence\"\n",
    "text_encoder=bert_model(text_prepprocessed)\n",
    "text_encoder.keys()"
   ]
  }
 ],
 "metadata": {
  "colab": {
   "authorship_tag": "ABX9TyN6wT/RfOmcFjh3iUnMHuC9",
   "collapsed_sections": [],
   "provenance": []
  },
  "kernelspec": {
   "display_name": "Python 3 (ipykernel)",
   "language": "python",
   "name": "python3"
  },
  "language_info": {
   "codemirror_mode": {
    "name": "ipython",
    "version": 3
   },
   "file_extension": ".py",
   "mimetype": "text/x-python",
   "name": "python",
   "nbconvert_exporter": "python",
   "pygments_lexer": "ipython3",
   "version": "3.10.6"
  }
 },
 "nbformat": 4,
 "nbformat_minor": 1
}
