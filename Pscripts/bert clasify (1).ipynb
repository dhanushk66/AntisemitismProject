{
 "cells": [
  {
   "cell_type": "code",
   "execution_count": 2,
   "metadata": {},
   "outputs": [
    {
     "name": "stdout",
     "output_type": "stream",
     "text": [
      "\u001b[31mERROR: Could not find a version that satisfies the requirement tensorflow_text (from versions: none)\u001b[0m\u001b[31m\n",
      "\u001b[0m\u001b[31mERROR: No matching distribution found for tensorflow_text\u001b[0m\u001b[31m\n",
      "\u001b[0mNote: you may need to restart the kernel to use updated packages.\n"
     ]
    }
   ],
   "source": [
    "pip install tensorflow_text"
   ]
  },
  {
   "cell_type": "code",
   "execution_count": 18,
   "metadata": {},
   "outputs": [],
   "source": []
  },
  {
   "cell_type": "code",
   "execution_count": 17,
   "metadata": {},
   "outputs": [],
   "source": []
  },
  {
   "cell_type": "code",
   "execution_count": 22,
   "metadata": {
    "executionInfo": {
     "elapsed": 9010,
     "status": "ok",
     "timestamp": 1667427489257,
     "user": {
      "displayName": "kikkisetti dhanush",
      "userId": "16589890571846927677"
     },
     "user_tz": 240
    },
    "id": "N_DjbhVXqkFL"
   },
   "outputs": [],
   "source": [
    "import tensorflow_text as text\n",
    "import tensorflow_hub as hub\n",
    "import pandas as pd\n",
    "import numpy as np\n",
    "import matplotlib as mt\n",
    "import tensorflow as tf\n",
    "from sklearn.model_selection import train_test_split\n",
    "from keras.layers import Dense, Input,Dropout\n",
    "from keras.models import Model"
   ]
  },
  {
   "cell_type": "code",
   "execution_count": null,
   "metadata": {},
   "outputs": [],
   "source": []
  },
  {
   "cell_type": "code",
   "execution_count": null,
   "metadata": {},
   "outputs": [],
   "source": []
  },
  {
   "cell_type": "code",
   "execution_count": 20,
   "metadata": {
    "colab": {
     "base_uri": "https://localhost:8080/",
     "height": 74
    },
    "executionInfo": {
     "elapsed": 16209,
     "status": "ok",
     "timestamp": 1667427511390,
     "user": {
      "displayName": "kikkisetti dhanush",
      "userId": "16589890571846927677"
     },
     "user_tz": 240
    },
    "id": "hnGBpLErsRFU",
    "outputId": "97528c8f-da22-4d85-d6b2-17da202d553d"
   },
   "outputs": [
    {
     "ename": "NameError",
     "evalue": "name 'files' is not defined",
     "output_type": "error",
     "traceback": [
      "\u001b[1;31m---------------------------------------------------------------------------\u001b[0m",
      "\u001b[1;31mNameError\u001b[0m                                 Traceback (most recent call last)",
      "\u001b[1;32m<ipython-input-20-0e3bcf1096e1>\u001b[0m in \u001b[0;36m<module>\u001b[1;34m\u001b[0m\n\u001b[1;32m----> 1\u001b[1;33m \u001b[0muploaded\u001b[0m\u001b[1;33m=\u001b[0m\u001b[0mfiles\u001b[0m\u001b[1;33m.\u001b[0m\u001b[0mupload\u001b[0m\u001b[1;33m(\u001b[0m\u001b[1;33m)\u001b[0m\u001b[1;33m\u001b[0m\u001b[1;33m\u001b[0m\u001b[0m\n\u001b[0m",
      "\u001b[1;31mNameError\u001b[0m: name 'files' is not defined"
     ]
    }
   ],
   "source": [
    "uploaded=files.upload()"
   ]
  },
  {
   "cell_type": "code",
   "execution_count": 23,
   "metadata": {
    "executionInfo": {
     "elapsed": 116,
     "status": "ok",
     "timestamp": 1667427514454,
     "user": {
      "displayName": "kikkisetti dhanush",
      "userId": "16589890571846927677"
     },
     "user_tz": 240
    },
    "id": "VSu3tkh2sRH5"
   },
   "outputs": [],
   "source": [
    "df=pd.read_csv('C:/Users/Dhruv Jain/Downloads/antisemitism_combined.csv')"
   ]
  },
  {
   "cell_type": "code",
   "execution_count": null,
   "metadata": {},
   "outputs": [],
   "source": []
  },
  {
   "cell_type": "code",
   "execution_count": null,
   "metadata": {},
   "outputs": [],
   "source": []
  },
  {
   "cell_type": "code",
   "execution_count": 24,
   "metadata": {
    "colab": {
     "base_uri": "https://localhost:8080/"
    },
    "executionInfo": {
     "elapsed": 118,
     "status": "ok",
     "timestamp": 1667427625092,
     "user": {
      "displayName": "kikkisetti dhanush",
      "userId": "16589890571846927677"
     },
     "user_tz": 240
    },
    "id": "oPhTWRCBbSiF",
    "outputId": "4b0121cd-43a2-4369-afb0-0a6306904918"
   },
   "outputs": [
    {
     "data": {
      "text/plain": [
       "0    877\n",
       "1    344\n",
       "Name: classification, dtype: int64"
      ]
     },
     "execution_count": 24,
     "metadata": {},
     "output_type": "execute_result"
    }
   ],
   "source": [
    "df['classification'].value_counts()"
   ]
  },
  {
   "cell_type": "code",
   "execution_count": 26,
   "metadata": {
    "executionInfo": {
     "elapsed": 139,
     "status": "ok",
     "timestamp": 1667427773025,
     "user": {
      "displayName": "kikkisetti dhanush",
      "userId": "16589890571846927677"
     },
     "user_tz": 240
    },
    "id": "cdUxX78qboOa"
   },
   "outputs": [],
   "source": [
    "label0=df[df['classification']==0]\n",
    "label1=df[df['classification']==1]\n",
    "newlabel0=label0.sample(len(label1))"
   ]
  },
  {
   "cell_type": "code",
   "execution_count": 27,
   "metadata": {
    "executionInfo": {
     "elapsed": 113,
     "status": "ok",
     "timestamp": 1667428089310,
     "user": {
      "displayName": "kikkisetti dhanush",
      "userId": "16589890571846927677"
     },
     "user_tz": 240
    },
    "id": "54sUhalaboVj"
   },
   "outputs": [],
   "source": [
    "new_df=pd.concat([newlabel0,label1])\n"
   ]
  },
  {
   "cell_type": "code",
   "execution_count": 3,
   "metadata": {
    "executionInfo": {
     "elapsed": 113,
     "status": "ok",
     "timestamp": 1667428124343,
     "user": {
      "displayName": "kikkisetti dhanush",
      "userId": "16589890571846927677"
     },
     "user_tz": 240
    },
    "id": "gM_U4GFrsRKo"
   },
   "outputs": [
    {
     "ename": "NameError",
     "evalue": "name 'df' is not defined",
     "output_type": "error",
     "traceback": [
      "\u001b[0;31m---------------------------------------------------------------------------\u001b[0m",
      "\u001b[0;31mNameError\u001b[0m                                 Traceback (most recent call last)",
      "Cell \u001b[0;32mIn [3], line 1\u001b[0m\n\u001b[0;32m----> 1\u001b[0m df_merged\u001b[38;5;241m=\u001b[39m\u001b[43mdf\u001b[49m[[\u001b[38;5;124m'\u001b[39m\u001b[38;5;124mclassification\u001b[39m\u001b[38;5;124m'\u001b[39m,\u001b[38;5;124m'\u001b[39m\u001b[38;5;124mtext\u001b[39m\u001b[38;5;124m'\u001b[39m]]\n\u001b[1;32m      2\u001b[0m df_merged\n",
      "\u001b[0;31mNameError\u001b[0m: name 'df' is not defined"
     ]
    }
   ],
   "source": [
    "df_merged=df[['classification','text']]\n",
    "df_merged"
   ]
  },
  {
   "cell_type": "code",
   "execution_count": 29,
   "metadata": {
    "colab": {
     "base_uri": "https://localhost:8080/"
    },
    "executionInfo": {
     "elapsed": 138,
     "status": "ok",
     "timestamp": 1667436207313,
     "user": {
      "displayName": "kikkisetti dhanush",
      "userId": "16589890571846927677"
     },
     "user_tz": 240
    },
    "id": "t0ciRwL36PHR",
    "outputId": "b4da5f31-b0d2-4f34-9a44-3a6281aaab5d"
   },
   "outputs": [
    {
     "data": {
      "text/plain": [
       "array([0, 1, 1, ..., 0, 0, 1], dtype=int64)"
      ]
     },
     "execution_count": 29,
     "metadata": {},
     "output_type": "execute_result"
    }
   ],
   "source": [
    "from sklearn.preprocessing import LabelEncoder\n",
    "lb=LabelEncoder()\n",
    "y=lb.fit_transform(df_merged['classification'])\n",
    "y"
   ]
  },
  {
   "cell_type": "code",
   "execution_count": 30,
   "metadata": {
    "executionInfo": {
     "elapsed": 113,
     "status": "ok",
     "timestamp": 1667437222096,
     "user": {
      "displayName": "kikkisetti dhanush",
      "userId": "16589890571846927677"
     },
     "user_tz": 240
    },
    "id": "I-i1oIkHccpm"
   },
   "outputs": [],
   "source": [
    "X_train,X_test,Y_train,Y_test=train_test_split(df_merged['text'],y,stratify=y)\n",
    "Y_train = np.asarray(Y_train).astype(np.float32)\n",
    "X_train = np.array([np.array(val) for val in X_train])"
   ]
  },
  {
   "cell_type": "code",
   "execution_count": 5,
   "metadata": {
    "colab": {
     "base_uri": "https://localhost:8080/"
    },
    "executionInfo": {
     "elapsed": 31761,
     "status": "ok",
     "timestamp": 1667428162675,
     "user": {
      "displayName": "kikkisetti dhanush",
      "userId": "16589890571846927677"
     },
     "user_tz": 240
    },
    "id": "GYbZy4FbgPMG",
    "outputId": "5bfba319-5071-44c3-f3a3-304ef20dc200"
   },
   "outputs": [
    {
     "ename": "NameError",
     "evalue": "name 'hub' is not defined",
     "output_type": "error",
     "traceback": [
      "\u001b[0;31m---------------------------------------------------------------------------\u001b[0m",
      "\u001b[0;31mNameError\u001b[0m                                 Traceback (most recent call last)",
      "Cell \u001b[0;32mIn [5], line 1\u001b[0m\n\u001b[0;32m----> 1\u001b[0m preprocess_url\u001b[38;5;241m=\u001b[39m\u001b[43mhub\u001b[49m\u001b[38;5;241m.\u001b[39mKerasLayer(\u001b[38;5;124m'\u001b[39m\u001b[38;5;124mhttps://tfhub.dev/tensorflow/bert_en_uncased_preprocess/3\u001b[39m\u001b[38;5;124m'\u001b[39m)\n\u001b[1;32m      2\u001b[0m encoder_url\u001b[38;5;241m=\u001b[39mhub\u001b[38;5;241m.\u001b[39mKerasLayer(\u001b[38;5;124m'\u001b[39m\u001b[38;5;124mhttps://tfhub.dev/tensorflow/bert_en_uncased_L-12_H-768_A-12/4\u001b[39m\u001b[38;5;124m'\u001b[39m)\n",
      "\u001b[0;31mNameError\u001b[0m: name 'hub' is not defined"
     ]
    }
   ],
   "source": [
    "preprocess_url=hub.KerasLayer('https://tfhub.dev/tensorflow/bert_en_uncased_preprocess/3')\n",
    "encoder_url=hub.KerasLayer('https://tfhub.dev/tensorflow/bert_en_uncased_L-12_H-768_A-12/4')"
   ]
  },
  {
   "cell_type": "code",
   "execution_count": 4,
   "metadata": {
    "colab": {
     "base_uri": "https://localhost:8080/"
    },
    "executionInfo": {
     "elapsed": 1971,
     "status": "ok",
     "timestamp": 1667141763579,
     "user": {
      "displayName": "kikkisetti dhanush",
      "userId": "16589890571846927677"
     },
     "user_tz": 240
    },
    "id": "sAFcWLT3g9mH",
    "outputId": "9dd01acb-8636-4edf-94c5-44140ef7eabc"
   },
   "outputs": [
    {
     "ename": "NameError",
     "evalue": "name 'preprocess_url' is not defined",
     "output_type": "error",
     "traceback": [
      "\u001b[0;31m---------------------------------------------------------------------------\u001b[0m",
      "\u001b[0;31mNameError\u001b[0m                                 Traceback (most recent call last)",
      "Cell \u001b[0;32mIn [4], line 5\u001b[0m\n\u001b[1;32m      2\u001b[0m   preprocesstext\u001b[38;5;241m=\u001b[39m preprocess_url(sentences)\n\u001b[1;32m      3\u001b[0m   \u001b[38;5;28;01mreturn\u001b[39;00m encoder_url(preprocesstext)[\u001b[38;5;124m'\u001b[39m\u001b[38;5;124mpooled_output\u001b[39m\u001b[38;5;124m'\u001b[39m]\n\u001b[0;32m----> 5\u001b[0m \u001b[43msentence_embedding\u001b[49m\u001b[43m(\u001b[49m\u001b[43m[\u001b[49m\u001b[38;5;124;43m'\u001b[39;49m\u001b[38;5;124;43mDhanush\u001b[39;49m\u001b[38;5;124;43m'\u001b[39;49m\u001b[43m,\u001b[49m\u001b[38;5;124;43m'\u001b[39;49m\u001b[38;5;124;43mapple\u001b[39;49m\u001b[38;5;124;43m'\u001b[39;49m\u001b[43m]\u001b[49m\u001b[43m)\u001b[49m\n",
      "Cell \u001b[0;32mIn [4], line 2\u001b[0m, in \u001b[0;36msentence_embedding\u001b[0;34m(sentences)\u001b[0m\n\u001b[1;32m      1\u001b[0m \u001b[38;5;28;01mdef\u001b[39;00m \u001b[38;5;21msentence_embedding\u001b[39m( sentences):\n\u001b[0;32m----> 2\u001b[0m   preprocesstext\u001b[38;5;241m=\u001b[39m \u001b[43mpreprocess_url\u001b[49m(sentences)\n\u001b[1;32m      3\u001b[0m   \u001b[38;5;28;01mreturn\u001b[39;00m encoder_url(preprocesstext)[\u001b[38;5;124m'\u001b[39m\u001b[38;5;124mpooled_output\u001b[39m\u001b[38;5;124m'\u001b[39m]\n",
      "\u001b[0;31mNameError\u001b[0m: name 'preprocess_url' is not defined"
     ]
    }
   ],
   "source": [
    "def sentence_embedding( sentences):\n",
    "  preprocesstext= preprocess_url(sentences)\n",
    "  return encoder_url(preprocesstext)['pooled_output']\n",
    "\n",
    "sentence_embedding(['Dhanush','apple'])\n"
   ]
  },
  {
   "cell_type": "code",
   "execution_count": 33,
   "metadata": {
    "executionInfo": {
     "elapsed": 1480,
     "status": "ok",
     "timestamp": 1667143186442,
     "user": {
      "displayName": "kikkisetti dhanush",
      "userId": "16589890571846927677"
     },
     "user_tz": 240
    },
    "id": "Lq1BHVSulb9T"
   },
   "outputs": [],
   "source": [
    "e=sentence_embedding([\n",
    "    'Not what you think Propagandist PRO zionist (Amos Oz supporter) Parents —&gt; Hollywood',\n",
    "])\n",
    "e1=sentence_embedding([\n",
    "    \"I'm probably blackpilled due to years of zog programming but I cant help but think that he watches other men please his wife.\"])\n"
   ]
  },
  {
   "cell_type": "code",
   "execution_count": 34,
   "metadata": {
    "colab": {
     "base_uri": "https://localhost:8080/"
    },
    "executionInfo": {
     "elapsed": 156,
     "status": "ok",
     "timestamp": 1667143189744,
     "user": {
      "displayName": "kikkisetti dhanush",
      "userId": "16589890571846927677"
     },
     "user_tz": 240
    },
    "id": "vxBC2r78ZKZq",
    "outputId": "e03901f7-9d45-44bb-c088-1a3764b58e63"
   },
   "outputs": [
    {
     "data": {
      "text/plain": [
       "array([[0.9331067]], dtype=float32)"
      ]
     },
     "execution_count": 34,
     "metadata": {},
     "output_type": "execute_result"
    }
   ],
   "source": [
    "from sklearn.metrics.pairwise import cosine_similarity\n",
    "\n",
    "cosine_similarity([e[0]],[e1[0]])"
   ]
  },
  {
   "cell_type": "code",
   "execution_count": 35,
   "metadata": {
    "executionInfo": {
     "elapsed": 271,
     "status": "ok",
     "timestamp": 1667434589839,
     "user": {
      "displayName": "kikkisetti dhanush",
      "userId": "16589890571846927677"
     },
     "user_tz": 240
    },
    "id": "C_ailDhXd8no"
   },
   "outputs": [],
   "source": [
    "input_layer=Input(shape=(),dtype=tf.string,name='text')\n",
    "preprocess=preprocess_url(input_layer)\n",
    "embedding=encoder_url(preprocess)\n",
    "\n",
    "l1=Dropout(0.1,name='dropout')(embedding['pooled_output'])\n",
    "l1=Dense(1,name='output',activation='sigmoid')(l1)\n",
    "\n",
    "model=Model(inputs=[input_layer],outputs=[l1])\n"
   ]
  },
  {
   "cell_type": "code",
   "execution_count": 36,
   "metadata": {
    "colab": {
     "base_uri": "https://localhost:8080/"
    },
    "executionInfo": {
     "elapsed": 522,
     "status": "ok",
     "timestamp": 1667434592081,
     "user": {
      "displayName": "kikkisetti dhanush",
      "userId": "16589890571846927677"
     },
     "user_tz": 240
    },
    "id": "MOjo99Ihd8uv",
    "outputId": "e3d58d97-ea06-43ec-afca-608f61fd2cee"
   },
   "outputs": [
    {
     "name": "stdout",
     "output_type": "stream",
     "text": [
      "Model: \"model\"\n",
      "__________________________________________________________________________________________________\n",
      " Layer (type)                   Output Shape         Param #     Connected to                     \n",
      "==================================================================================================\n",
      " text (InputLayer)              [(None,)]            0           []                               \n",
      "                                                                                                  \n",
      " keras_layer (KerasLayer)       {'input_word_ids':   0           ['text[0][0]']                   \n",
      "                                (None, 128),                                                      \n",
      "                                 'input_type_ids':                                                \n",
      "                                (None, 128),                                                      \n",
      "                                 'input_mask': (Non                                               \n",
      "                                e, 128)}                                                          \n",
      "                                                                                                  \n",
      " keras_layer_1 (KerasLayer)     {'pooled_output': (  109482241   ['keras_layer[0][0]',            \n",
      "                                None, 768),                       'keras_layer[0][1]',            \n",
      "                                 'sequence_output':               'keras_layer[0][2]']            \n",
      "                                 (None, 128, 768),                                                \n",
      "                                 'encoder_outputs':                                               \n",
      "                                 [(None, 128, 768),                                               \n",
      "                                 (None, 128, 768),                                                \n",
      "                                 (None, 128, 768),                                                \n",
      "                                 (None, 128, 768),                                                \n",
      "                                 (None, 128, 768),                                                \n",
      "                                 (None, 128, 768),                                                \n",
      "                                 (None, 128, 768),                                                \n",
      "                                 (None, 128, 768),                                                \n",
      "                                 (None, 128, 768),                                                \n",
      "                                 (None, 128, 768),                                                \n",
      "                                 (None, 128, 768),                                                \n",
      "                                 (None, 128, 768)],                                               \n",
      "                                 'default': (None,                                                \n",
      "                                768)}                                                             \n",
      "                                                                                                  \n",
      " dropout (Dropout)              (None, 768)          0           ['keras_layer_1[0][13]']         \n",
      "                                                                                                  \n",
      " output (Dense)                 (None, 1)            769         ['dropout[0][0]']                \n",
      "                                                                                                  \n",
      "==================================================================================================\n",
      "Total params: 109,483,010\n",
      "Trainable params: 769\n",
      "Non-trainable params: 109,482,241\n",
      "__________________________________________________________________________________________________\n"
     ]
    }
   ],
   "source": [
    "model.summary()"
   ]
  },
  {
   "cell_type": "code",
   "execution_count": 37,
   "metadata": {
    "executionInfo": {
     "elapsed": 124,
     "status": "ok",
     "timestamp": 1667434597961,
     "user": {
      "displayName": "kikkisetti dhanush",
      "userId": "16589890571846927677"
     },
     "user_tz": 240
    },
    "id": "OTOXyB1_d8xX"
   },
   "outputs": [],
   "source": [
    "METRICS=[\n",
    "    tf.keras.metrics.BinaryAccuracy(name='binaryaccuracy'),\n",
    "    tf.keras.metrics.Precision(name='precision'),\n",
    "    tf.keras.metrics.Recall(name= 'recall')\n",
    "]\n",
    "model.compile(loss='categorical_crossentropy', \n",
    "                   optimizer='adam', \n",
    "                   metrics=METRICS)"
   ]
  },
  {
   "cell_type": "code",
   "execution_count": 38,
   "metadata": {
    "colab": {
     "base_uri": "https://localhost:8080/"
    },
    "executionInfo": {
     "elapsed": 504901,
     "status": "ok",
     "timestamp": 1667437945184,
     "user": {
      "displayName": "kikkisetti dhanush",
      "userId": "16589890571846927677"
     },
     "user_tz": 240
    },
    "id": "b5QfYpxblAR2",
    "outputId": "da65eefa-958c-43e0-c9cb-bed6b0338194"
   },
   "outputs": [
    {
     "name": "stdout",
     "output_type": "stream",
     "text": [
      "Epoch 1/10\n",
      "29/29 [==============================] - 156s 5s/step - loss: 0.0000e+00 - binaryaccuracy: 0.7016 - precision: 0.2000 - recall: 0.0194\n",
      "Epoch 2/10\n",
      "29/29 [==============================] - 177s 6s/step - loss: 0.0000e+00 - binaryaccuracy: 0.7180 - precision: 0.5000 - recall: 0.0039\n",
      "Epoch 3/10\n",
      "29/29 [==============================] - 183s 6s/step - loss: 0.0000e+00 - binaryaccuracy: 0.7180 - precision: 0.5000 - recall: 0.0039\n",
      "Epoch 4/10\n",
      "29/29 [==============================] - 176s 6s/step - loss: 0.0000e+00 - binaryaccuracy: 0.7180 - precision: 0.5000 - recall: 0.0039\n",
      "Epoch 5/10\n",
      "29/29 [==============================] - 174s 6s/step - loss: 0.0000e+00 - binaryaccuracy: 0.7180 - precision: 0.5000 - recall: 0.0039\n",
      "Epoch 6/10\n",
      "29/29 [==============================] - 178s 6s/step - loss: 0.0000e+00 - binaryaccuracy: 0.7180 - precision: 0.5000 - recall: 0.0039\n",
      "Epoch 7/10\n",
      "29/29 [==============================] - 173s 6s/step - loss: 0.0000e+00 - binaryaccuracy: 0.7180 - precision: 0.5000 - recall: 0.0039\n",
      "Epoch 8/10\n",
      "29/29 [==============================] - 182s 6s/step - loss: 0.0000e+00 - binaryaccuracy: 0.7180 - precision: 0.5000 - recall: 0.0039\n",
      "Epoch 9/10\n",
      "29/29 [==============================] - 168s 6s/step - loss: 0.0000e+00 - binaryaccuracy: 0.7180 - precision: 0.5000 - recall: 0.0039\n",
      "Epoch 10/10\n",
      "29/29 [==============================] - 169s 6s/step - loss: 0.0000e+00 - binaryaccuracy: 0.7180 - precision: 0.5000 - recall: 0.0039\n"
     ]
    },
    {
     "data": {
      "text/plain": [
       "<keras.callbacks.History at 0x17c62b25bb0>"
      ]
     },
     "execution_count": 38,
     "metadata": {},
     "output_type": "execute_result"
    }
   ],
   "source": [
    "model.fit(X_train, Y_train, epochs=10)"
   ]
  },
  {
   "cell_type": "code",
   "execution_count": null,
   "metadata": {},
   "outputs": [],
   "source": []
  }
 ],
 "metadata": {
  "colab": {
   "authorship_tag": "ABX9TyO30Y/kB0MwFspm05GDGEUe",
   "collapsed_sections": [],
   "provenance": []
  },
  "kernelspec": {
   "display_name": "Python 3 (ipykernel)",
   "language": "python",
   "name": "python3"
  },
  "language_info": {
   "codemirror_mode": {
    "name": "ipython",
    "version": 3
   },
   "file_extension": ".py",
   "mimetype": "text/x-python",
   "name": "python",
   "nbconvert_exporter": "python",
   "pygments_lexer": "ipython3",
   "version": "3.10.6"
  }
 },
 "nbformat": 4,
 "nbformat_minor": 1
}
