{
 "cells": [
  {
   "cell_type": "code",
   "execution_count": 1,
   "id": "8e0e90ee",
   "metadata": {},
   "outputs": [],
   "source": [
    "import numpy as np\n",
    "import pandas as pd\n",
    "from datetime import datetime\n",
    "import re\n",
    "import string\n",
    "import nltk\n",
    "from nltk.corpus import stopwords;\n",
    "from nltk.stem import PorterStemmer \n",
    "from nltk.tokenize import word_tokenize;\n",
    "from nltk.stem import WordNetLemmatizer\n",
    "from sklearn.feature_extraction.text import TfidfVectorizer,CountVectorizer\n",
    "from nltk import pos_tag\n",
    "from nltk.util import ngrams\n",
    "import collections\n",
    "import spacy\n",
    "en = spacy.load('en_core_web_sm')\n",
    "\n"
   ]
  },
  {
   "cell_type": "code",
   "execution_count": 33,
   "id": "abd2c015",
   "metadata": {},
   "outputs": [
    {
     "name": "stderr",
     "output_type": "stream",
     "text": [
      "/var/folders/08/6__rzch12ms6qj1p_4ypnr2m0000gn/T/ipykernel_45211/1103168030.py:1: DtypeWarning: Columns (4,5,6,7,12,13,14,15,16,17,18,19,20,21,22,23,24,25,26,27,28,29,30,31,32,33,34,35,36,37,38,39,40,41,42,43,44,45,46,47,48,49,50,51,52,53,54,55,56,57,58,59,60,61,62,63,64,65,66,67,68,69,70,71,72,73,74,75,76,77,78,79,80,81,82,83,84,85,86,87,88,89,90,91,92,93,94,99,100,102) have mixed types. Specify dtype option on import or set low_memory=False.\n",
      "  new_data=pd.read_csv(\"/Users/dhanushkikkisetti/Documents/Research Assistant/extreme right antisemitism _ new.csv\")\n"
     ]
    }
   ],
   "source": [
    "\n",
    "new_data=pd.read_csv(\"/Users/dhanushkikkisetti/Documents/Research Assistant/extreme right antisemitism _ new.csv\")\n",
    "new_data.head()\n",
    "new_data=new_data[['Date','Post']]\n",
    "data=new_data.drop_duplicates()"
   ]
  },
  {
   "cell_type": "code",
   "execution_count": 34,
   "id": "59b8c795",
   "metadata": {},
   "outputs": [
    {
     "data": {
      "text/html": [
       "<div>\n",
       "<style scoped>\n",
       "    .dataframe tbody tr th:only-of-type {\n",
       "        vertical-align: middle;\n",
       "    }\n",
       "\n",
       "    .dataframe tbody tr th {\n",
       "        vertical-align: top;\n",
       "    }\n",
       "\n",
       "    .dataframe thead th {\n",
       "        text-align: right;\n",
       "    }\n",
       "</style>\n",
       "<table border=\"1\" class=\"dataframe\">\n",
       "  <thead>\n",
       "    <tr style=\"text-align: right;\">\n",
       "      <th></th>\n",
       "      <th>Date</th>\n",
       "      <th>Post</th>\n",
       "    </tr>\n",
       "  </thead>\n",
       "  <tbody>\n",
       "    <tr>\n",
       "      <th>0</th>\n",
       "      <td>29/12/22</td>\n",
       "      <td>Robber Barons of the Red ShieldThe Rothschild ...</td>\n",
       "    </tr>\n",
       "    <tr>\n",
       "      <th>1</th>\n",
       "      <td>18/01/23</td>\n",
       "      <td>Robber Barons of the Red ShieldThe Rothschild ...</td>\n",
       "    </tr>\n",
       "    <tr>\n",
       "      <th>2</th>\n",
       "      <td>20/01/23</td>\n",
       "      <td>Page 1  Table of contents :  1. Mayer Amschel ...</td>\n",
       "    </tr>\n",
       "    <tr>\n",
       "      <th>3</th>\n",
       "      <td>25/01/23</td>\n",
       "      <td>Page 1  Table of contents :  1. Mayer Amschel ...</td>\n",
       "    </tr>\n",
       "    <tr>\n",
       "      <th>4</th>\n",
       "      <td>04/01/23</td>\n",
       "      <td>Page 1  Table of contents :  1. Mayer Amschel ...</td>\n",
       "    </tr>\n",
       "    <tr>\n",
       "      <th>...</th>\n",
       "      <td>...</td>\n",
       "      <td>...</td>\n",
       "    </tr>\n",
       "    <tr>\n",
       "      <th>38496</th>\n",
       "      <td>21/02/23</td>\n",
       "      <td>#GeorgeSorosWhy Indiaâ€™s Hindu nationalists a...</td>\n",
       "    </tr>\n",
       "    <tr>\n",
       "      <th>38497</th>\n",
       "      <td>21/02/23</td>\n",
       "      <td>IF EVERY THING IS CREATED BY ALL POWERFUL BENE...</td>\n",
       "    </tr>\n",
       "    <tr>\n",
       "      <th>38498</th>\n",
       "      <td>21/02/23</td>\n",
       "      <td>Ukraine on Fire - Oliver StoneLearn the actual...</td>\n",
       "    </tr>\n",
       "    <tr>\n",
       "      <th>38499</th>\n",
       "      <td>21/02/23</td>\n",
       "      <td>GEORGE SOROS SAYS HES THE ONE THAT DECIDED TO ...</td>\n",
       "    </tr>\n",
       "    <tr>\n",
       "      <th>38500</th>\n",
       "      <td>21/02/23</td>\n",
       "      <td>Der Plan des Deep States ist, die Menschheit z...</td>\n",
       "    </tr>\n",
       "  </tbody>\n",
       "</table>\n",
       "<p>36038 rows × 2 columns</p>\n",
       "</div>"
      ],
      "text/plain": [
       "           Date                                               Post\n",
       "0      29/12/22  Robber Barons of the Red ShieldThe Rothschild ...\n",
       "1      18/01/23  Robber Barons of the Red ShieldThe Rothschild ...\n",
       "2      20/01/23  Page 1  Table of contents :  1. Mayer Amschel ...\n",
       "3      25/01/23  Page 1  Table of contents :  1. Mayer Amschel ...\n",
       "4      04/01/23  Page 1  Table of contents :  1. Mayer Amschel ...\n",
       "...         ...                                                ...\n",
       "38496  21/02/23  #GeorgeSorosWhy Indiaâ€™s Hindu nationalists a...\n",
       "38497  21/02/23  IF EVERY THING IS CREATED BY ALL POWERFUL BENE...\n",
       "38498  21/02/23  Ukraine on Fire - Oliver StoneLearn the actual...\n",
       "38499  21/02/23  GEORGE SOROS SAYS HES THE ONE THAT DECIDED TO ...\n",
       "38500  21/02/23  Der Plan des Deep States ist, die Menschheit z...\n",
       "\n",
       "[36038 rows x 2 columns]"
      ]
     },
     "execution_count": 34,
     "metadata": {},
     "output_type": "execute_result"
    }
   ],
   "source": [
    "data"
   ]
  },
  {
   "cell_type": "code",
   "execution_count": null,
   "id": "74cbb7a8",
   "metadata": {},
   "outputs": [],
   "source": [
    "data['Post'] = data.groupby(['Date'])['Post'].transform(lambda x: ' '.join(x))\n",
    "data.drop_duplicate"
   ]
  }
 ],
 "metadata": {
  "kernelspec": {
   "display_name": "Python 3 (ipykernel)",
   "language": "python",
   "name": "python3"
  },
  "language_info": {
   "codemirror_mode": {
    "name": "ipython",
    "version": 3
   },
   "file_extension": ".py",
   "mimetype": "text/x-python",
   "name": "python",
   "nbconvert_exporter": "python",
   "pygments_lexer": "ipython3",
   "version": "3.10.6"
  }
 },
 "nbformat": 4,
 "nbformat_minor": 5
}
